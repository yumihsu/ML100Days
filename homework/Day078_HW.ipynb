{
 "cells": [
  {
   "cell_type": "markdown",
   "metadata": {},
   "source": [
    "## Work\n",
    "1. 請嘗試將 preproc_x 替換成以每筆資料的 min/max 進行標準化至 -1 ~ 1 間，再進行訓練\n",
    "2. 請嘗試將 mlp 疊更深 (e.g 5~10 層)，進行訓練後觀察 learning curve 的走勢\n",
    "3. (optional) 請改用 GPU 進行訓練 (如果你有 GPU 的話)，比較使用 CPU 與 GPU 的訓練速度"
   ]
  },
  {
   "cell_type": "code",
   "execution_count": 1,
   "metadata": {},
   "outputs": [],
   "source": [
    "## \n",
    "\"\"\"\n",
    "Your code here (optional)\n",
    "確認硬體資源\n",
    "\"\"\"\n"
   ]
  },
  {
   "cell_type": "code",
   "execution_count": 1,
   "metadata": {},
   "outputs": [],
   "source": [
    "import os\n",
    "import keras\n",
    "\n",
    "# 請嘗試設定 GPU：os.environ\n",
    "os.environ[\"CUDA_VISIBLE_DEVICES\"] = \"\"\n"
   ]
  },
  {
   "cell_type": "code",
   "execution_count": 2,
   "metadata": {},
   "outputs": [],
   "source": [
    "train, test = keras.datasets.cifar10.load_data()"
   ]
  },
  {
   "cell_type": "code",
   "execution_count": 7,
   "metadata": {},
   "outputs": [
    {
     "data": {
      "text/plain": [
       "1"
      ]
     },
     "execution_count": 7,
     "metadata": {},
     "output_type": "execute_result"
    }
   ],
   "source": [
    "train[1].shape[-1]"
   ]
  },
  {
   "cell_type": "code",
   "execution_count": 10,
   "metadata": {},
   "outputs": [],
   "source": [
    "## 資料前處理\n",
    "\"\"\"\n",
    "Your code here\n",
    "\"\"\"\n",
    "def preproc_x(x,flatten=True):\n",
    "    x = x /255\n",
    "    if flatten == True :\n",
    "        x = x.reshape(len(x),-1) \n",
    "    return x\n",
    "def preproc_y(y , num_classes = 10):\n",
    "    if y.shape[-1] == 1:\n",
    "        y = keras.utils.to_categorical(y,num_classes) \n",
    "    return y"
   ]
  },
  {
   "cell_type": "code",
   "execution_count": 11,
   "metadata": {},
   "outputs": [],
   "source": [
    "x_train, y_train = train\n",
    "x_test, y_test = test\n",
    "\n",
    "# Preproc the inputs\n",
    "x_train = preproc_x(x_train)\n",
    "x_test = preproc_x(x_test)\n",
    "\n",
    "# Preprc the outputs\n",
    "y_train = preproc_y(y_train)\n",
    "y_test = preproc_y(y_test)"
   ]
  },
  {
   "cell_type": "code",
   "execution_count": 24,
   "metadata": {},
   "outputs": [],
   "source": [
    "\"\"\"Code Here\n",
    "建立你的神經網路\n",
    "\"\"\"\n",
    "def build_mlp(input_shape , output_units = 10 , num_nerous = [512,256,128]):\n",
    "    input_layer = keras.layers.Input(input_shape)\n",
    "    \n",
    "    for i , n_units in enumerate(num_nerous):\n",
    "        if i == 0:\n",
    "            x = keras.layers.Dense(units = n_units ,\n",
    "                                   activation = 'relu' ,\n",
    "                                   name = 'hidden_layer'+str(i+1))(input_layer)\n",
    "        else:\n",
    "            x = keras.layers.Dense(units = n_units ,\n",
    "                                  activation = 'relu',\n",
    "                                  name = 'hidden_layer'+str(i+1))(x)\n",
    "            \n",
    "    out = keras.layers.Dense(units = output_units ,activation = 'softmax',\n",
    "                                  name = \"output\")(x)\n",
    "    model = keras.models.Model(inputs = [input_layer],\n",
    "                              outputs = [out])\n",
    "    return model\n"
   ]
  },
  {
   "cell_type": "code",
   "execution_count": 25,
   "metadata": {},
   "outputs": [
    {
     "name": "stdout",
     "output_type": "stream",
     "text": [
      "Model: \"functional_1\"\n",
      "_________________________________________________________________\n",
      "Layer (type)                 Output Shape              Param #   \n",
      "=================================================================\n",
      "input_6 (InputLayer)         [(None, 3072)]            0         \n",
      "_________________________________________________________________\n",
      "hidden_layer1 (Dense)        (None, 512)               1573376   \n",
      "_________________________________________________________________\n",
      "hidden_layer2 (Dense)        (None, 256)               131328    \n",
      "_________________________________________________________________\n",
      "hidden_layer3 (Dense)        (None, 128)               32896     \n",
      "_________________________________________________________________\n",
      "output (Dense)               (None, 10)                1290      \n",
      "=================================================================\n",
      "Total params: 1,738,890\n",
      "Trainable params: 1,738,890\n",
      "Non-trainable params: 0\n",
      "_________________________________________________________________\n"
     ]
    }
   ],
   "source": [
    "model = build_mlp(input_shape=x_train.shape[1:])\n",
    "\n",
    "model.summary()\n"
   ]
  },
  {
   "cell_type": "code",
   "execution_count": 26,
   "metadata": {},
   "outputs": [],
   "source": [
    "## 超參數設定\n",
    "LEARNING_RATE = 0.001\n",
    "EPOCHS = 100\n",
    "BATCH_SIZE = 256"
   ]
  },
  {
   "cell_type": "code",
   "execution_count": 27,
   "metadata": {},
   "outputs": [],
   "source": [
    "optimizer = keras.optimizers.Adam(lr=LEARNING_RATE)\n",
    "model.compile(loss=\"categorical_crossentropy\", metrics=[\"accuracy\"], optimizer=optimizer)"
   ]
  },
  {
   "cell_type": "code",
   "execution_count": 28,
   "metadata": {
    "scrolled": false
   },
   "outputs": [
    {
     "name": "stdout",
     "output_type": "stream",
     "text": [
      "Epoch 1/100\n",
      "196/196 [==============================] - 2s 13ms/step - loss: 1.9570 - accuracy: 0.2918 - val_loss: 1.8007 - val_accuracy: 0.3444\n",
      "Epoch 2/100\n",
      "196/196 [==============================] - 2s 10ms/step - loss: 1.7120 - accuracy: 0.3858 - val_loss: 1.6509 - val_accuracy: 0.4154\n",
      "Epoch 3/100\n",
      "196/196 [==============================] - 2s 10ms/step - loss: 1.6245 - accuracy: 0.4205 - val_loss: 1.5911 - val_accuracy: 0.4393\n",
      "Epoch 4/100\n",
      "196/196 [==============================] - 2s 10ms/step - loss: 1.5562 - accuracy: 0.4433 - val_loss: 1.6444 - val_accuracy: 0.4190\n",
      "Epoch 5/100\n",
      "196/196 [==============================] - 2s 10ms/step - loss: 1.5017 - accuracy: 0.4633 - val_loss: 1.5058 - val_accuracy: 0.4646\n",
      "Epoch 6/100\n",
      "196/196 [==============================] - 2s 10ms/step - loss: 1.4768 - accuracy: 0.4734 - val_loss: 1.4880 - val_accuracy: 0.4703\n",
      "Epoch 7/100\n",
      "196/196 [==============================] - 2s 10ms/step - loss: 1.4442 - accuracy: 0.4818 - val_loss: 1.4536 - val_accuracy: 0.4856\n",
      "Epoch 8/100\n",
      "196/196 [==============================] - 2s 10ms/step - loss: 1.4130 - accuracy: 0.4968 - val_loss: 1.4698 - val_accuracy: 0.4760\n",
      "Epoch 9/100\n",
      "196/196 [==============================] - 2s 10ms/step - loss: 1.3769 - accuracy: 0.5081 - val_loss: 1.4371 - val_accuracy: 0.4886\n",
      "Epoch 10/100\n",
      "196/196 [==============================] - 2s 10ms/step - loss: 1.3549 - accuracy: 0.5146 - val_loss: 1.4251 - val_accuracy: 0.4928\n",
      "Epoch 11/100\n",
      "196/196 [==============================] - 2s 11ms/step - loss: 1.3244 - accuracy: 0.5307 - val_loss: 1.4240 - val_accuracy: 0.4945\n",
      "Epoch 12/100\n",
      "196/196 [==============================] - 2s 10ms/step - loss: 1.3128 - accuracy: 0.5336 - val_loss: 1.4050 - val_accuracy: 0.5017\n",
      "Epoch 13/100\n",
      "196/196 [==============================] - 2s 10ms/step - loss: 1.2803 - accuracy: 0.5409 - val_loss: 1.4303 - val_accuracy: 0.5070\n",
      "Epoch 14/100\n",
      "196/196 [==============================] - 2s 10ms/step - loss: 1.2634 - accuracy: 0.5481 - val_loss: 1.4060 - val_accuracy: 0.4992\n",
      "Epoch 15/100\n",
      "196/196 [==============================] - 2s 10ms/step - loss: 1.2342 - accuracy: 0.5611 - val_loss: 1.3783 - val_accuracy: 0.5099\n",
      "Epoch 16/100\n",
      "196/196 [==============================] - 2s 10ms/step - loss: 1.2258 - accuracy: 0.5632 - val_loss: 1.3893 - val_accuracy: 0.5082\n",
      "Epoch 17/100\n",
      "196/196 [==============================] - 2s 10ms/step - loss: 1.2035 - accuracy: 0.5732 - val_loss: 1.3580 - val_accuracy: 0.5155\n",
      "Epoch 18/100\n",
      "196/196 [==============================] - 2s 10ms/step - loss: 1.1806 - accuracy: 0.5784 - val_loss: 1.3509 - val_accuracy: 0.5212\n",
      "Epoch 19/100\n",
      "196/196 [==============================] - 2s 10ms/step - loss: 1.1556 - accuracy: 0.5872 - val_loss: 1.4235 - val_accuracy: 0.5017\n",
      "Epoch 20/100\n",
      "196/196 [==============================] - 2s 10ms/step - loss: 1.1441 - accuracy: 0.5923 - val_loss: 1.3628 - val_accuracy: 0.5251\n",
      "Epoch 21/100\n",
      "196/196 [==============================] - 2s 10ms/step - loss: 1.1231 - accuracy: 0.6001 - val_loss: 1.3553 - val_accuracy: 0.5288\n",
      "Epoch 22/100\n",
      "196/196 [==============================] - 2s 10ms/step - loss: 1.1078 - accuracy: 0.6035 - val_loss: 1.3521 - val_accuracy: 0.5241\n",
      "Epoch 23/100\n",
      "196/196 [==============================] - 2s 10ms/step - loss: 1.0857 - accuracy: 0.6144 - val_loss: 1.3913 - val_accuracy: 0.5228\n",
      "Epoch 24/100\n",
      "196/196 [==============================] - 2s 10ms/step - loss: 1.0779 - accuracy: 0.6174 - val_loss: 1.3543 - val_accuracy: 0.5308\n",
      "Epoch 25/100\n",
      "196/196 [==============================] - 2s 10ms/step - loss: 1.0608 - accuracy: 0.6212 - val_loss: 1.3942 - val_accuracy: 0.5185\n",
      "Epoch 26/100\n",
      "196/196 [==============================] - 2s 10ms/step - loss: 1.0385 - accuracy: 0.6302 - val_loss: 1.4233 - val_accuracy: 0.5220\n",
      "Epoch 27/100\n",
      "196/196 [==============================] - 2s 10ms/step - loss: 1.0068 - accuracy: 0.6423 - val_loss: 1.3600 - val_accuracy: 0.5388\n",
      "Epoch 28/100\n",
      "196/196 [==============================] - 2s 10ms/step - loss: 1.0071 - accuracy: 0.6413 - val_loss: 1.4001 - val_accuracy: 0.5270\n",
      "Epoch 29/100\n",
      "196/196 [==============================] - 2s 10ms/step - loss: 0.9705 - accuracy: 0.6545 - val_loss: 1.4050 - val_accuracy: 0.5287\n",
      "Epoch 30/100\n",
      "196/196 [==============================] - 2s 10ms/step - loss: 0.9579 - accuracy: 0.6562 - val_loss: 1.4016 - val_accuracy: 0.5312\n",
      "Epoch 31/100\n",
      "196/196 [==============================] - 2s 10ms/step - loss: 0.9381 - accuracy: 0.6660 - val_loss: 1.4234 - val_accuracy: 0.5342\n",
      "Epoch 32/100\n",
      "196/196 [==============================] - 2s 10ms/step - loss: 0.9314 - accuracy: 0.6701 - val_loss: 1.4305 - val_accuracy: 0.5329\n",
      "Epoch 33/100\n",
      "196/196 [==============================] - 2s 10ms/step - loss: 0.9208 - accuracy: 0.6712 - val_loss: 1.4213 - val_accuracy: 0.5343\n",
      "Epoch 34/100\n",
      "196/196 [==============================] - 2s 10ms/step - loss: 0.8948 - accuracy: 0.6815 - val_loss: 1.4231 - val_accuracy: 0.5276\n",
      "Epoch 35/100\n",
      "196/196 [==============================] - 2s 11ms/step - loss: 0.8757 - accuracy: 0.6885 - val_loss: 1.5056 - val_accuracy: 0.5171\n",
      "Epoch 36/100\n",
      "196/196 [==============================] - 2s 10ms/step - loss: 0.8548 - accuracy: 0.6973 - val_loss: 1.5069 - val_accuracy: 0.5218\n",
      "Epoch 37/100\n",
      "196/196 [==============================] - 2s 10ms/step - loss: 0.8428 - accuracy: 0.6976 - val_loss: 1.4862 - val_accuracy: 0.5352\n",
      "Epoch 38/100\n",
      "196/196 [==============================] - 2s 10ms/step - loss: 0.8304 - accuracy: 0.7031 - val_loss: 1.4980 - val_accuracy: 0.5235\n",
      "Epoch 39/100\n",
      "196/196 [==============================] - 2s 10ms/step - loss: 0.8088 - accuracy: 0.7110 - val_loss: 1.5309 - val_accuracy: 0.5228\n",
      "Epoch 40/100\n",
      "196/196 [==============================] - 2s 11ms/step - loss: 0.7878 - accuracy: 0.7192 - val_loss: 1.5898 - val_accuracy: 0.5171\n",
      "Epoch 41/100\n",
      "196/196 [==============================] - 2s 10ms/step - loss: 0.7963 - accuracy: 0.7156 - val_loss: 1.5559 - val_accuracy: 0.5287\n",
      "Epoch 42/100\n",
      "196/196 [==============================] - 2s 10ms/step - loss: 0.7653 - accuracy: 0.7256 - val_loss: 1.5866 - val_accuracy: 0.5090\n",
      "Epoch 43/100\n",
      "196/196 [==============================] - 2s 10ms/step - loss: 0.7576 - accuracy: 0.7293 - val_loss: 1.6121 - val_accuracy: 0.5171\n",
      "Epoch 44/100\n",
      "196/196 [==============================] - 2s 10ms/step - loss: 0.7334 - accuracy: 0.7396 - val_loss: 1.6240 - val_accuracy: 0.5180\n",
      "Epoch 45/100\n",
      "196/196 [==============================] - 2s 10ms/step - loss: 0.7312 - accuracy: 0.7380 - val_loss: 1.6324 - val_accuracy: 0.5217\n",
      "Epoch 46/100\n",
      "196/196 [==============================] - 2s 10ms/step - loss: 0.7093 - accuracy: 0.7476 - val_loss: 1.6676 - val_accuracy: 0.5194\n",
      "Epoch 47/100\n",
      "196/196 [==============================] - 2s 10ms/step - loss: 0.6962 - accuracy: 0.7514 - val_loss: 1.6723 - val_accuracy: 0.5195\n",
      "Epoch 48/100\n",
      "196/196 [==============================] - 2s 10ms/step - loss: 0.6790 - accuracy: 0.7573 - val_loss: 1.7220 - val_accuracy: 0.5116\n",
      "Epoch 49/100\n",
      "196/196 [==============================] - 2s 10ms/step - loss: 0.6769 - accuracy: 0.7563 - val_loss: 1.7378 - val_accuracy: 0.5121\n",
      "Epoch 50/100\n",
      "196/196 [==============================] - 2s 10ms/step - loss: 0.6526 - accuracy: 0.7670 - val_loss: 1.8104 - val_accuracy: 0.5085\n",
      "Epoch 51/100\n",
      "196/196 [==============================] - 2s 10ms/step - loss: 0.6557 - accuracy: 0.7675 - val_loss: 1.7496 - val_accuracy: 0.5179\n",
      "Epoch 52/100\n",
      "196/196 [==============================] - 2s 10ms/step - loss: 0.6291 - accuracy: 0.7734 - val_loss: 1.7761 - val_accuracy: 0.5146\n",
      "Epoch 53/100\n",
      "196/196 [==============================] - 2s 10ms/step - loss: 0.6229 - accuracy: 0.7776 - val_loss: 1.7934 - val_accuracy: 0.5181\n",
      "Epoch 54/100\n",
      "196/196 [==============================] - 2s 10ms/step - loss: 0.6109 - accuracy: 0.7821 - val_loss: 1.8624 - val_accuracy: 0.5137\n",
      "Epoch 55/100\n",
      "196/196 [==============================] - 2s 10ms/step - loss: 0.5922 - accuracy: 0.7886 - val_loss: 1.8345 - val_accuracy: 0.5234\n",
      "Epoch 56/100\n",
      "196/196 [==============================] - 2s 10ms/step - loss: 0.5872 - accuracy: 0.7908 - val_loss: 1.9653 - val_accuracy: 0.5099\n",
      "Epoch 57/100\n"
     ]
    },
    {
     "name": "stdout",
     "output_type": "stream",
     "text": [
      "196/196 [==============================] - 2s 10ms/step - loss: 0.5927 - accuracy: 0.7888 - val_loss: 1.9476 - val_accuracy: 0.5171\n",
      "Epoch 58/100\n",
      "196/196 [==============================] - 2s 10ms/step - loss: 0.5681 - accuracy: 0.7983 - val_loss: 1.9957 - val_accuracy: 0.5106\n",
      "Epoch 59/100\n",
      "196/196 [==============================] - 2s 10ms/step - loss: 0.5499 - accuracy: 0.8035 - val_loss: 1.9889 - val_accuracy: 0.5165\n",
      "Epoch 60/100\n",
      "196/196 [==============================] - 2s 10ms/step - loss: 0.5373 - accuracy: 0.8089 - val_loss: 2.0215 - val_accuracy: 0.5149\n",
      "Epoch 61/100\n",
      "196/196 [==============================] - 2s 10ms/step - loss: 0.5318 - accuracy: 0.8109 - val_loss: 2.1035 - val_accuracy: 0.5121\n",
      "Epoch 62/100\n",
      "196/196 [==============================] - 2s 10ms/step - loss: 0.5271 - accuracy: 0.8104 - val_loss: 2.0325 - val_accuracy: 0.5143\n",
      "Epoch 63/100\n",
      "196/196 [==============================] - 2s 10ms/step - loss: 0.5154 - accuracy: 0.8153 - val_loss: 2.0803 - val_accuracy: 0.5094\n",
      "Epoch 64/100\n",
      "196/196 [==============================] - 2s 10ms/step - loss: 0.4933 - accuracy: 0.8233 - val_loss: 2.1719 - val_accuracy: 0.5103\n",
      "Epoch 65/100\n",
      "196/196 [==============================] - 2s 10ms/step - loss: 0.5010 - accuracy: 0.8209 - val_loss: 2.1196 - val_accuracy: 0.5178\n",
      "Epoch 66/100\n",
      "196/196 [==============================] - 2s 12ms/step - loss: 0.4922 - accuracy: 0.8222 - val_loss: 2.2003 - val_accuracy: 0.5073\n",
      "Epoch 67/100\n",
      "196/196 [==============================] - 2s 12ms/step - loss: 0.4860 - accuracy: 0.8249 - val_loss: 2.2593 - val_accuracy: 0.5066\n",
      "Epoch 68/100\n",
      "196/196 [==============================] - 2s 11ms/step - loss: 0.4778 - accuracy: 0.8277 - val_loss: 2.2442 - val_accuracy: 0.5188\n",
      "Epoch 69/100\n",
      "196/196 [==============================] - 2s 10ms/step - loss: 0.4679 - accuracy: 0.8312 - val_loss: 2.2569 - val_accuracy: 0.5104\n",
      "Epoch 70/100\n",
      "196/196 [==============================] - 2s 10ms/step - loss: 0.4405 - accuracy: 0.8425 - val_loss: 2.2884 - val_accuracy: 0.5072\n",
      "Epoch 71/100\n",
      "196/196 [==============================] - 2s 11ms/step - loss: 0.4515 - accuracy: 0.8390 - val_loss: 2.3804 - val_accuracy: 0.5109\n",
      "Epoch 72/100\n",
      "196/196 [==============================] - 2s 10ms/step - loss: 0.4364 - accuracy: 0.8431 - val_loss: 2.3888 - val_accuracy: 0.5096\n",
      "Epoch 73/100\n",
      "196/196 [==============================] - 2s 10ms/step - loss: 0.4241 - accuracy: 0.8484 - val_loss: 2.4194 - val_accuracy: 0.5003\n",
      "Epoch 74/100\n",
      "196/196 [==============================] - 2s 11ms/step - loss: 0.4295 - accuracy: 0.8472 - val_loss: 2.4188 - val_accuracy: 0.5077\n",
      "Epoch 75/100\n",
      "196/196 [==============================] - 2s 11ms/step - loss: 0.4343 - accuracy: 0.8424 - val_loss: 2.4816 - val_accuracy: 0.5027\n",
      "Epoch 76/100\n",
      "196/196 [==============================] - 2s 11ms/step - loss: 0.3946 - accuracy: 0.8591 - val_loss: 2.4586 - val_accuracy: 0.5037\n",
      "Epoch 77/100\n",
      "196/196 [==============================] - 2s 10ms/step - loss: 0.4058 - accuracy: 0.8540 - val_loss: 2.4790 - val_accuracy: 0.5061\n",
      "Epoch 78/100\n",
      "196/196 [==============================] - 2s 10ms/step - loss: 0.3861 - accuracy: 0.8607 - val_loss: 2.6053 - val_accuracy: 0.5012\n",
      "Epoch 79/100\n",
      "196/196 [==============================] - 2s 10ms/step - loss: 0.3881 - accuracy: 0.8605 - val_loss: 2.6316 - val_accuracy: 0.5020\n",
      "Epoch 80/100\n",
      "196/196 [==============================] - 2s 10ms/step - loss: 0.3737 - accuracy: 0.8658 - val_loss: 2.6332 - val_accuracy: 0.5056\n",
      "Epoch 81/100\n",
      "196/196 [==============================] - 2s 10ms/step - loss: 0.3705 - accuracy: 0.8688 - val_loss: 2.7199 - val_accuracy: 0.5057\n",
      "Epoch 82/100\n",
      "196/196 [==============================] - 2s 10ms/step - loss: 0.3656 - accuracy: 0.8693 - val_loss: 2.6942 - val_accuracy: 0.5076\n",
      "Epoch 83/100\n",
      "196/196 [==============================] - 2s 11ms/step - loss: 0.3803 - accuracy: 0.8633 - val_loss: 2.7211 - val_accuracy: 0.5051\n",
      "Epoch 84/100\n",
      "196/196 [==============================] - 2s 11ms/step - loss: 0.3516 - accuracy: 0.8726 - val_loss: 2.7268 - val_accuracy: 0.5076\n",
      "Epoch 85/100\n",
      "196/196 [==============================] - 2s 11ms/step - loss: 0.3641 - accuracy: 0.8683 - val_loss: 2.8943 - val_accuracy: 0.4976\n",
      "Epoch 86/100\n",
      "196/196 [==============================] - 2s 10ms/step - loss: 0.3663 - accuracy: 0.8684 - val_loss: 2.8073 - val_accuracy: 0.5049\n",
      "Epoch 87/100\n",
      "196/196 [==============================] - 2s 10ms/step - loss: 0.3576 - accuracy: 0.8718 - val_loss: 2.8728 - val_accuracy: 0.5037\n",
      "Epoch 88/100\n",
      "196/196 [==============================] - 2s 10ms/step - loss: 0.3402 - accuracy: 0.8777 - val_loss: 2.8292 - val_accuracy: 0.5030\n",
      "Epoch 89/100\n",
      "196/196 [==============================] - 2s 10ms/step - loss: 0.3380 - accuracy: 0.8803 - val_loss: 3.0125 - val_accuracy: 0.4921\n",
      "Epoch 90/100\n",
      "196/196 [==============================] - 2s 10ms/step - loss: 0.3181 - accuracy: 0.8851 - val_loss: 2.9201 - val_accuracy: 0.5061\n",
      "Epoch 91/100\n",
      "196/196 [==============================] - 2s 10ms/step - loss: 0.3404 - accuracy: 0.8780 - val_loss: 2.9789 - val_accuracy: 0.5065\n",
      "Epoch 92/100\n",
      "196/196 [==============================] - 2s 10ms/step - loss: 0.3150 - accuracy: 0.8890 - val_loss: 3.0326 - val_accuracy: 0.5052\n",
      "Epoch 93/100\n",
      "196/196 [==============================] - 2s 10ms/step - loss: 0.3537 - accuracy: 0.8719 - val_loss: 2.8664 - val_accuracy: 0.5071\n",
      "Epoch 94/100\n",
      "196/196 [==============================] - 2s 10ms/step - loss: 0.3284 - accuracy: 0.8808 - val_loss: 3.0205 - val_accuracy: 0.5039\n",
      "Epoch 95/100\n",
      "196/196 [==============================] - 2s 10ms/step - loss: 0.3099 - accuracy: 0.8881 - val_loss: 3.0684 - val_accuracy: 0.4973\n",
      "Epoch 96/100\n",
      "196/196 [==============================] - 2s 10ms/step - loss: 0.3029 - accuracy: 0.8909 - val_loss: 3.0859 - val_accuracy: 0.5024\n",
      "Epoch 97/100\n",
      "196/196 [==============================] - 2s 10ms/step - loss: 0.3228 - accuracy: 0.8838 - val_loss: 3.0044 - val_accuracy: 0.5029\n",
      "Epoch 98/100\n",
      "196/196 [==============================] - 2s 10ms/step - loss: 0.2931 - accuracy: 0.8950 - val_loss: 3.1293 - val_accuracy: 0.5041\n",
      "Epoch 99/100\n",
      "196/196 [==============================] - 2s 10ms/step - loss: 0.2767 - accuracy: 0.9007 - val_loss: 3.3030 - val_accuracy: 0.4943\n",
      "Epoch 100/100\n",
      "196/196 [==============================] - 2s 10ms/step - loss: 0.3047 - accuracy: 0.8906 - val_loss: 3.1797 - val_accuracy: 0.5002\n"
     ]
    },
    {
     "data": {
      "text/plain": [
       "<tensorflow.python.keras.callbacks.History at 0x28ed20e0d48>"
      ]
     },
     "execution_count": 28,
     "metadata": {},
     "output_type": "execute_result"
    }
   ],
   "source": [
    "model.fit(x_train, y_train, \n",
    "          epochs=EPOCHS, \n",
    "          batch_size=BATCH_SIZE, \n",
    "          validation_data=(x_test, y_test), \n",
    "          shuffle=True)"
   ]
  },
  {
   "cell_type": "code",
   "execution_count": 29,
   "metadata": {},
   "outputs": [
    {
     "data": {
      "image/png": "[encoded data removed]",
      "text/plain": [
       "<Figure size 432x288 with 1 Axes>"
      ]
     },
     "metadata": {
      "needs_background": "light"
     },
     "output_type": "display_data"
    },
    {
     "data": {
      "image/png": "[encoded data removed]",
      "text/plain": [
       "<Figure size 432x288 with 1 Axes>"
      ]
     },
     "metadata": {
      "needs_background": "light"
     },
     "output_type": "display_data"
    }
   ],
   "source": [
    "import matplotlib.pyplot as plt\n",
    "\n",
    "\n",
    "train_loss = model.history.history[\"loss\"]\n",
    "valid_loss = model.history.history[\"val_loss\"]\n",
    "\n",
    "train_acc = model.history.history[\"accuracy\"]\n",
    "valid_acc = model.history.history[\"val_accuracy\"]\n",
    "\n",
    "plt.plot(range(len(train_loss)), train_loss, label=\"train loss\")\n",
    "plt.plot(range(len(valid_loss)), valid_loss, label=\"valid loss\")\n",
    "plt.legend()\n",
    "plt.title(\"Loss\")\n",
    "plt.show()\n",
    "\n",
    "plt.plot(range(len(train_acc)), train_acc, label=\"train accuracy\")\n",
    "plt.plot(range(len(valid_acc)), valid_acc, label=\"valid accuracy\")\n",
    "plt.legend()\n",
    "plt.title(\"Accuracy\")\n",
    "plt.show()"
   ]
  }
 ],
 "metadata": {
  "kernelspec": {
   "display_name": "Python 3",
   "language": "python",
   "name": "python3"
  },
  "language_info": {
   "codemirror_mode": {
    "name": "ipython",
    "version": 3
   },
   "file_extension": ".py",
   "mimetype": "text/x-python",
   "name": "python",
   "nbconvert_exporter": "python",
   "pygments_lexer": "ipython3",
   "version": "3.7.7"
  }
 },
 "nbformat": 4,
 "nbformat_minor": 2
}

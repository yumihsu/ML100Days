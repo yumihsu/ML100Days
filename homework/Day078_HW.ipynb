{
 "cells": [
  {
   "cell_type": "markdown",
   "metadata": {},
   "source": [
    "## Work\n",
    "1. 請嘗試將 preproc_x 替換成以每筆資料的 min/max 進行標準化至 -1 ~ 1 間，再進行訓練\n",
    "2. 請嘗試將 mlp 疊更深 (e.g 5~10 層)，進行訓練後觀察 learning curve 的走勢\n",
    "3. (optional) 請改用 GPU 進行訓練 (如果你有 GPU 的話)，比較使用 CPU 與 GPU 的訓練速度"
   ]
  },
  {
   "cell_type": "code",
   "execution_count": 30,
   "metadata": {
    "scrolled": true
   },
   "outputs": [
    {
     "name": "stdout",
     "output_type": "stream",
     "text": [
      "Thu Oct 08 02:48:29 2020       \n",
      "+-----------------------------------------------------------------------------+\n",
      "| NVIDIA-SMI 452.06       Driver Version: 452.06       CUDA Version: 11.0     |\n",
      "|-------------------------------+----------------------+----------------------+\n",
      "| GPU  Name            TCC/WDDM | Bus-Id        Disp.A | Volatile Uncorr. ECC |\n",
      "| Fan  Temp  Perf  Pwr:Usage/Cap|         Memory-Usage | GPU-Util  Compute M. |\n",
      "|===============================+======================+======================|\n",
      "|   0  GeForce RTX 2060   WDDM  | 00000000:01:00.0  On |                  N/A |\n",
      "|  0%   50C    P8    17W / 170W |   4401MiB /  6144MiB |      5%      Default |\n",
      "+-------------------------------+----------------------+----------------------+\n",
      "                                                                               \n",
      "+-----------------------------------------------------------------------------+\n",
      "| Processes:                                                                  |\n",
      "|  GPU   GI   CI        PID   Type   Process name                  GPU Memory |\n",
      "|        ID   ID                                                   Usage      |\n",
      "|=============================================================================|\n",
      "|    0   N/A  N/A      1288    C+G   Insufficient Permissions        N/A      |\n",
      "|    0   N/A  N/A      1676    C+G   ...y\\ShellExperienceHost.exe    N/A      |\n",
      "|    0   N/A  N/A      2348    C+G   ...w5n1h2txyewy\\SearchUI.exe    N/A      |\n",
      "|    0   N/A  N/A      4296    C+G   ...les (x86)\\KKBOX\\KKBOX.exe    N/A      |\n",
      "|    0   N/A  N/A      5660    C+G   ...es.TextInput.InputApp.exe    N/A      |\n",
      "|    0   N/A  N/A      8684    C+G   ...p-2.5.3\\GitHubDesktop.exe    N/A      |\n",
      "|    0   N/A  N/A      9324    C+G   ...Container\\nvcontainer.exe    N/A      |\n",
      "|    0   N/A  N/A      9724    C+G   Insufficient Permissions        N/A      |\n",
      "|    0   N/A  N/A     10392    C+G   C:\\Windows\\explorer.exe         N/A      |\n",
      "|    0   N/A  N/A     11440    C+G   Insufficient Permissions        N/A      |\n",
      "|    0   N/A  N/A     14512    C+G   ...wekyb3d8bbwe\\Video.UI.exe    N/A      |\n",
      "|    0   N/A  N/A     14752    C+G   ...ekyb3d8bbwe\\YourPhone.exe    N/A      |\n",
      "|    0   N/A  N/A     15724    C+G   ...me\\Application\\chrome.exe    N/A      |\n",
      "|    0   N/A  N/A     16964    C+G   ...perience\\NVIDIA Share.exe    N/A      |\n",
      "|    0   N/A  N/A     17316    C+G   ...perience\\NVIDIA Share.exe    N/A      |\n",
      "|    0   N/A  N/A     18820    C+G   ...pp\\AutodeskDesktopApp.exe    N/A      |\n",
      "|    0   N/A  N/A     19380    C+G   ...bBrowser\\AcWebBrowser.exe    N/A      |\n",
      "|    0   N/A  N/A     19448    C+G   ...8bbwe\\Microsoft.Notes.exe    N/A      |\n",
      "|    0   N/A  N/A     20584    C+G   Insufficient Permissions        N/A      |\n",
      "|    0   N/A  N/A     21468      C   ...\\envs\\openpose\\python.exe    N/A      |\n",
      "|    0   N/A  N/A     23216    C+G   ...ice\\Office16\\POWERPNT.EXE    N/A      |\n",
      "|    0   N/A  N/A     25196    C+G   ...in7x64\\steamwebhelper.exe    N/A      |\n",
      "|    0   N/A  N/A     26428    C+G   Insufficient Permissions        N/A      |\n",
      "|    0   N/A  N/A     36936    C+G   ...cks\\Client\\Bluestacks.exe    N/A      |\n",
      "|    0   N/A  N/A     37316    C+G   ...w5n1h2txyewy\\SearchUI.exe    N/A      |\n",
      "|    0   N/A  N/A     37480    C+G   ...\\BlueStacks\\HD-Player.exe    N/A      |\n",
      "|    0   N/A  N/A     44236    C+G   ...fice\\Office16\\WINWORD.EXE    N/A      |\n",
      "|    0   N/A  N/A     44792    C+G   ...LINE\\bin\\current\\LINE.exe    N/A      |\n",
      "|    0   N/A  N/A     44844    C+G   ...bbwe\\Microsoft.Photos.exe    N/A      |\n",
      "|    0   N/A  N/A     45616    C+G   ...d\\app-0.0.307\\Discord.exe    N/A      |\n",
      "|    0   N/A  N/A     46556    C+G   ...s\\BlueStacks\\HD-Agent.exe    N/A      |\n",
      "+-----------------------------------------------------------------------------+\n"
     ]
    }
   ],
   "source": [
    "## \n",
    "\"\"\"\n",
    "Your code here (optional)\n",
    "確認硬體資源\n",
    "\"\"\"\n",
    "!nvidia-smi\n"
   ]
  },
  {
   "cell_type": "code",
   "execution_count": 39,
   "metadata": {},
   "outputs": [],
   "source": [
    "import os\n",
    "import keras\n",
    "\n",
    "# 請嘗試設定 GPU：os.environ\n",
    "os.environ[\"CUDA_VISIBLE_DEVICES\"] = \"TCC/WDDM\"\n"
   ]
  },
  {
   "cell_type": "code",
   "execution_count": 40,
   "metadata": {},
   "outputs": [],
   "source": [
    "train, test = keras.datasets.cifar10.load_data()"
   ]
  },
  {
   "cell_type": "code",
   "execution_count": 41,
   "metadata": {},
   "outputs": [],
   "source": [
    "## 資料前處理\n",
    "\"\"\"\n",
    "Your code here\n",
    "\"\"\"\n",
    "def preproc_x(x,flatten=True):\n",
    "    x = x /255*2-1\n",
    "    if flatten == True :\n",
    "        x = x.reshape(len(x),-1) \n",
    "    return x\n",
    "def preproc_y(y , num_classes = 10):\n",
    "    if y.shape[-1] == 1:\n",
    "        y = keras.utils.to_categorical(y,num_classes) \n",
    "    return y"
   ]
  },
  {
   "cell_type": "code",
   "execution_count": 42,
   "metadata": {},
   "outputs": [],
   "source": [
    "x_train, y_train = train\n",
    "x_test, y_test = test\n",
    "\n",
    "# Preproc the inputs\n",
    "x_train = preproc_x(x_train)\n",
    "x_test = preproc_x(x_test)\n",
    "\n",
    "# Preprc the outputs\n",
    "y_train = preproc_y(y_train)\n",
    "y_test = preproc_y(y_test)"
   ]
  },
  {
   "cell_type": "code",
   "execution_count": 43,
   "metadata": {},
   "outputs": [],
   "source": [
    "\"\"\"Code Here\n",
    "建立你的神經網路\n",
    "\"\"\"\n",
    "def build_mlp(input_shape , output_units = 10 , num_nerous = [512,256,128,128,64,32]):\n",
    "    input_layer = keras.layers.Input(input_shape)\n",
    "    \n",
    "    for i , n_units in enumerate(num_nerous):\n",
    "        if i == 0:\n",
    "            x = keras.layers.Dense(units = n_units ,\n",
    "                                   activation = 'relu' ,\n",
    "                                   name = 'hidden_layer'+str(i+1))(input_layer)\n",
    "        else:\n",
    "            x = keras.layers.Dense(units = n_units ,\n",
    "                                  activation = 'relu',\n",
    "                                  name = 'hidden_layer'+str(i+1))(x)\n",
    "            \n",
    "    out = keras.layers.Dense(units = output_units ,activation = 'softmax',\n",
    "                                  name = \"output\")(x)\n",
    "    model = keras.models.Model(inputs = [input_layer],\n",
    "                              outputs = [out])\n",
    "    return model\n"
   ]
  },
  {
   "cell_type": "code",
   "execution_count": 44,
   "metadata": {},
   "outputs": [
    {
     "name": "stdout",
     "output_type": "stream",
     "text": [
      "Model: \"functional_3\"\n",
      "_________________________________________________________________\n",
      "Layer (type)                 Output Shape              Param #   \n",
      "=================================================================\n",
      "input_7 (InputLayer)         [(None, 3072)]            0         \n",
      "_________________________________________________________________\n",
      "hidden_layer1 (Dense)        (None, 512)               1573376   \n",
      "_________________________________________________________________\n",
      "hidden_layer2 (Dense)        (None, 256)               131328    \n",
      "_________________________________________________________________\n",
      "hidden_layer3 (Dense)        (None, 128)               32896     \n",
      "_________________________________________________________________\n",
      "hidden_layer4 (Dense)        (None, 128)               16512     \n",
      "_________________________________________________________________\n",
      "hidden_layer5 (Dense)        (None, 64)                8256      \n",
      "_________________________________________________________________\n",
      "hidden_layer6 (Dense)        (None, 32)                2080      \n",
      "_________________________________________________________________\n",
      "output (Dense)               (None, 10)                330       \n",
      "=================================================================\n",
      "Total params: 1,764,778\n",
      "Trainable params: 1,764,778\n",
      "Non-trainable params: 0\n",
      "_________________________________________________________________\n"
     ]
    }
   ],
   "source": [
    "model = build_mlp(input_shape=x_train.shape[1:])\n",
    "\n",
    "model.summary()\n"
   ]
  },
  {
   "cell_type": "code",
   "execution_count": 45,
   "metadata": {},
   "outputs": [],
   "source": [
    "## 超參數設定\n",
    "LEARNING_RATE = 0.001\n",
    "EPOCHS = 100\n",
    "BATCH_SIZE = 256"
   ]
  },
  {
   "cell_type": "code",
   "execution_count": 46,
   "metadata": {},
   "outputs": [],
   "source": [
    "optimizer = keras.optimizers.Adam(lr=LEARNING_RATE)\n",
    "model.compile(loss=\"categorical_crossentropy\", metrics=[\"accuracy\"], optimizer=optimizer)"
   ]
  },
  {
   "cell_type": "code",
   "execution_count": 47,
   "metadata": {
    "scrolled": false
   },
   "outputs": [
    {
     "name": "stdout",
     "output_type": "stream",
     "text": [
      "Epoch 1/100\n",
      "196/196 [==============================] - 2s 11ms/step - loss: 1.7307 - accuracy: 0.3864 - val_loss: 1.5728 - val_accuracy: 0.4409\n",
      "Epoch 2/100\n",
      "196/196 [==============================] - 2s 10ms/step - loss: 1.4974 - accuracy: 0.4736 - val_loss: 1.4855 - val_accuracy: 0.4783\n",
      "Epoch 3/100\n",
      "196/196 [==============================] - 2s 10ms/step - loss: 1.3770 - accuracy: 0.5165 - val_loss: 1.4248 - val_accuracy: 0.5022\n",
      "Epoch 4/100\n",
      "196/196 [==============================] - 2s 10ms/step - loss: 1.2895 - accuracy: 0.5477 - val_loss: 1.3844 - val_accuracy: 0.5132\n",
      "Epoch 5/100\n",
      "196/196 [==============================] - 2s 10ms/step - loss: 1.2034 - accuracy: 0.5760 - val_loss: 1.3846 - val_accuracy: 0.5184\n",
      "Epoch 6/100\n",
      "196/196 [==============================] - 2s 10ms/step - loss: 1.1286 - accuracy: 0.6031 - val_loss: 1.3729 - val_accuracy: 0.5306\n",
      "Epoch 7/100\n",
      "196/196 [==============================] - 2s 10ms/step - loss: 1.0532 - accuracy: 0.6289 - val_loss: 1.3869 - val_accuracy: 0.5386\n",
      "Epoch 8/100\n",
      "196/196 [==============================] - 2s 10ms/step - loss: 0.9836 - accuracy: 0.6532 - val_loss: 1.3966 - val_accuracy: 0.5328\n",
      "Epoch 9/100\n",
      "196/196 [==============================] - 2s 10ms/step - loss: 0.9197 - accuracy: 0.6742 - val_loss: 1.4164 - val_accuracy: 0.5381\n",
      "Epoch 10/100\n",
      "196/196 [==============================] - 2s 10ms/step - loss: 0.8530 - accuracy: 0.6974 - val_loss: 1.4681 - val_accuracy: 0.5280\n",
      "Epoch 11/100\n",
      "196/196 [==============================] - 2s 10ms/step - loss: 0.7895 - accuracy: 0.7213 - val_loss: 1.4784 - val_accuracy: 0.5324\n",
      "Epoch 12/100\n",
      "196/196 [==============================] - 2s 10ms/step - loss: 0.7369 - accuracy: 0.7403 - val_loss: 1.5571 - val_accuracy: 0.5321\n",
      "Epoch 13/100\n",
      "196/196 [==============================] - 2s 10ms/step - loss: 0.6737 - accuracy: 0.7620 - val_loss: 1.5628 - val_accuracy: 0.5363\n",
      "Epoch 14/100\n",
      "196/196 [==============================] - 2s 10ms/step - loss: 0.6146 - accuracy: 0.7810 - val_loss: 1.6130 - val_accuracy: 0.5353\n",
      "Epoch 15/100\n",
      "196/196 [==============================] - 2s 10ms/step - loss: 0.5821 - accuracy: 0.7939 - val_loss: 1.6847 - val_accuracy: 0.5328\n",
      "Epoch 16/100\n",
      "196/196 [==============================] - 2s 10ms/step - loss: 0.5295 - accuracy: 0.8120 - val_loss: 1.8086 - val_accuracy: 0.5310\n",
      "Epoch 17/100\n",
      "196/196 [==============================] - 2s 10ms/step - loss: 0.4967 - accuracy: 0.8242 - val_loss: 1.8729 - val_accuracy: 0.5279\n",
      "Epoch 18/100\n",
      "196/196 [==============================] - 2s 10ms/step - loss: 0.4546 - accuracy: 0.8403 - val_loss: 1.9107 - val_accuracy: 0.5319\n",
      "Epoch 19/100\n",
      "196/196 [==============================] - 2s 10ms/step - loss: 0.4218 - accuracy: 0.8507 - val_loss: 2.0552 - val_accuracy: 0.5346\n",
      "Epoch 20/100\n",
      "196/196 [==============================] - 2s 10ms/step - loss: 0.3828 - accuracy: 0.8640 - val_loss: 2.1919 - val_accuracy: 0.5286\n",
      "Epoch 21/100\n",
      "196/196 [==============================] - 2s 10ms/step - loss: 0.3683 - accuracy: 0.8698 - val_loss: 2.1014 - val_accuracy: 0.5367\n",
      "Epoch 22/100\n",
      "196/196 [==============================] - 2s 10ms/step - loss: 0.3331 - accuracy: 0.8855 - val_loss: 2.3118 - val_accuracy: 0.5304\n",
      "Epoch 23/100\n",
      "196/196 [==============================] - 2s 10ms/step - loss: 0.3118 - accuracy: 0.8902 - val_loss: 2.3602 - val_accuracy: 0.5344\n",
      "Epoch 24/100\n",
      "196/196 [==============================] - 2s 10ms/step - loss: 0.2958 - accuracy: 0.8964 - val_loss: 2.3494 - val_accuracy: 0.5330\n",
      "Epoch 25/100\n",
      "196/196 [==============================] - 2s 10ms/step - loss: 0.2768 - accuracy: 0.9032 - val_loss: 2.4753 - val_accuracy: 0.5259\n",
      "Epoch 26/100\n",
      "196/196 [==============================] - 2s 10ms/step - loss: 0.2849 - accuracy: 0.9026 - val_loss: 2.4713 - val_accuracy: 0.5299\n",
      "Epoch 27/100\n",
      "196/196 [==============================] - 2s 10ms/step - loss: 0.2528 - accuracy: 0.9127 - val_loss: 2.5006 - val_accuracy: 0.5265\n",
      "Epoch 28/100\n",
      "196/196 [==============================] - 2s 10ms/step - loss: 0.2396 - accuracy: 0.9173 - val_loss: 2.6586 - val_accuracy: 0.5302\n",
      "Epoch 29/100\n",
      "196/196 [==============================] - 2s 10ms/step - loss: 0.2177 - accuracy: 0.9239 - val_loss: 2.8927 - val_accuracy: 0.5291\n",
      "Epoch 30/100\n",
      "196/196 [==============================] - 2s 10ms/step - loss: 0.2238 - accuracy: 0.9230 - val_loss: 2.7870 - val_accuracy: 0.5264\n",
      "Epoch 31/100\n",
      "196/196 [==============================] - 2s 10ms/step - loss: 0.2200 - accuracy: 0.9247 - val_loss: 2.8162 - val_accuracy: 0.5293\n",
      "Epoch 32/100\n",
      "196/196 [==============================] - 2s 10ms/step - loss: 0.2019 - accuracy: 0.9314 - val_loss: 2.9381 - val_accuracy: 0.5263\n",
      "Epoch 33/100\n",
      "196/196 [==============================] - 2s 10ms/step - loss: 0.2098 - accuracy: 0.9279 - val_loss: 3.1031 - val_accuracy: 0.5309\n",
      "Epoch 34/100\n",
      "196/196 [==============================] - 2s 10ms/step - loss: 0.1799 - accuracy: 0.9377 - val_loss: 3.0883 - val_accuracy: 0.5249\n",
      "Epoch 35/100\n",
      "196/196 [==============================] - 2s 10ms/step - loss: 0.1629 - accuracy: 0.9446 - val_loss: 3.1223 - val_accuracy: 0.5314\n",
      "Epoch 36/100\n",
      "196/196 [==============================] - 2s 10ms/step - loss: 0.1987 - accuracy: 0.9322 - val_loss: 3.0842 - val_accuracy: 0.5231\n",
      "Epoch 37/100\n",
      "196/196 [==============================] - 2s 10ms/step - loss: 0.1585 - accuracy: 0.9453 - val_loss: 3.2098 - val_accuracy: 0.5292\n",
      "Epoch 38/100\n",
      "196/196 [==============================] - 2s 10ms/step - loss: 0.1621 - accuracy: 0.9448 - val_loss: 3.0732 - val_accuracy: 0.5257\n",
      "Epoch 39/100\n",
      "196/196 [==============================] - 2s 10ms/step - loss: 0.1683 - accuracy: 0.9424 - val_loss: 3.1633 - val_accuracy: 0.5195\n",
      "Epoch 40/100\n",
      "196/196 [==============================] - 2s 10ms/step - loss: 0.1676 - accuracy: 0.9434 - val_loss: 3.0365 - val_accuracy: 0.5219\n",
      "Epoch 41/100\n",
      "196/196 [==============================] - 2s 10ms/step - loss: 0.1475 - accuracy: 0.9491 - val_loss: 3.2722 - val_accuracy: 0.5271\n",
      "Epoch 42/100\n",
      "196/196 [==============================] - 2s 10ms/step - loss: 0.1396 - accuracy: 0.9526 - val_loss: 3.2308 - val_accuracy: 0.5252\n",
      "Epoch 43/100\n",
      "196/196 [==============================] - 2s 10ms/step - loss: 0.1427 - accuracy: 0.9520 - val_loss: 3.2941 - val_accuracy: 0.5268\n",
      "Epoch 44/100\n",
      "196/196 [==============================] - 2s 10ms/step - loss: 0.1403 - accuracy: 0.9521 - val_loss: 3.3421 - val_accuracy: 0.5268\n",
      "Epoch 45/100\n",
      "196/196 [==============================] - 2s 10ms/step - loss: 0.1363 - accuracy: 0.9521 - val_loss: 3.4374 - val_accuracy: 0.5203\n",
      "Epoch 46/100\n",
      "196/196 [==============================] - 2s 10ms/step - loss: 0.1481 - accuracy: 0.9506 - val_loss: 3.5036 - val_accuracy: 0.5300\n",
      "Epoch 47/100\n",
      "196/196 [==============================] - 2s 10ms/step - loss: 0.1264 - accuracy: 0.9576 - val_loss: 3.6251 - val_accuracy: 0.5217\n",
      "Epoch 48/100\n",
      "196/196 [==============================] - 2s 10ms/step - loss: 0.1165 - accuracy: 0.9601 - val_loss: 3.6210 - val_accuracy: 0.5243\n",
      "Epoch 49/100\n",
      "196/196 [==============================] - 2s 10ms/step - loss: 0.1376 - accuracy: 0.9543 - val_loss: 3.4468 - val_accuracy: 0.5330\n",
      "Epoch 50/100\n",
      "196/196 [==============================] - 2s 10ms/step - loss: 0.1390 - accuracy: 0.9543 - val_loss: 3.5609 - val_accuracy: 0.5171\n",
      "Epoch 51/100\n",
      "196/196 [==============================] - 2s 10ms/step - loss: 0.1235 - accuracy: 0.9590 - val_loss: 3.7149 - val_accuracy: 0.5266\n",
      "Epoch 52/100\n",
      "196/196 [==============================] - 2s 10ms/step - loss: 0.1117 - accuracy: 0.9634 - val_loss: 3.6269 - val_accuracy: 0.5282\n",
      "Epoch 53/100\n",
      "196/196 [==============================] - 2s 10ms/step - loss: 0.1189 - accuracy: 0.9598 - val_loss: 3.6194 - val_accuracy: 0.5255\n",
      "Epoch 54/100\n",
      "196/196 [==============================] - 2s 10ms/step - loss: 0.1224 - accuracy: 0.9606 - val_loss: 3.5225 - val_accuracy: 0.5313\n",
      "Epoch 55/100\n",
      "196/196 [==============================] - 2s 10ms/step - loss: 0.1129 - accuracy: 0.9621 - val_loss: 3.5597 - val_accuracy: 0.5291\n",
      "Epoch 56/100\n",
      "196/196 [==============================] - 2s 10ms/step - loss: 0.1111 - accuracy: 0.9628 - val_loss: 3.5392 - val_accuracy: 0.5317\n",
      "Epoch 57/100\n"
     ]
    },
    {
     "name": "stdout",
     "output_type": "stream",
     "text": [
      "196/196 [==============================] - 2s 10ms/step - loss: 0.1054 - accuracy: 0.9658 - val_loss: 3.5610 - val_accuracy: 0.5272\n",
      "Epoch 58/100\n",
      "196/196 [==============================] - ETA: 0s - loss: 0.1082 - accuracy: 0.96 - 2s 10ms/step - loss: 0.1077 - accuracy: 0.9642 - val_loss: 3.8413 - val_accuracy: 0.5280\n",
      "Epoch 59/100\n",
      "196/196 [==============================] - 2s 10ms/step - loss: 0.1039 - accuracy: 0.9655 - val_loss: 3.8460 - val_accuracy: 0.5258\n",
      "Epoch 60/100\n",
      "196/196 [==============================] - 2s 10ms/step - loss: 0.1055 - accuracy: 0.9659 - val_loss: 3.7029 - val_accuracy: 0.5280\n",
      "Epoch 61/100\n",
      "196/196 [==============================] - 2s 10ms/step - loss: 0.0918 - accuracy: 0.9704 - val_loss: 3.8486 - val_accuracy: 0.5289\n",
      "Epoch 62/100\n",
      "196/196 [==============================] - 2s 10ms/step - loss: 0.1138 - accuracy: 0.9630 - val_loss: 3.7046 - val_accuracy: 0.5207\n",
      "Epoch 63/100\n",
      "196/196 [==============================] - 2s 10ms/step - loss: 0.1046 - accuracy: 0.9652 - val_loss: 3.7140 - val_accuracy: 0.5238\n",
      "Epoch 64/100\n",
      "196/196 [==============================] - 2s 10ms/step - loss: 0.0953 - accuracy: 0.9688 - val_loss: 3.8558 - val_accuracy: 0.5312\n",
      "Epoch 65/100\n",
      "196/196 [==============================] - 2s 10ms/step - loss: 0.1009 - accuracy: 0.9676 - val_loss: 3.7871 - val_accuracy: 0.5305\n",
      "Epoch 66/100\n",
      "196/196 [==============================] - 2s 10ms/step - loss: 0.0850 - accuracy: 0.9725 - val_loss: 3.9741 - val_accuracy: 0.5282\n",
      "Epoch 67/100\n",
      "196/196 [==============================] - 2s 10ms/step - loss: 0.0986 - accuracy: 0.9671 - val_loss: 3.7141 - val_accuracy: 0.5259\n",
      "Epoch 68/100\n",
      "196/196 [==============================] - 2s 10ms/step - loss: 0.0892 - accuracy: 0.9705 - val_loss: 3.8790 - val_accuracy: 0.5268\n",
      "Epoch 69/100\n",
      "196/196 [==============================] - 2s 10ms/step - loss: 0.0927 - accuracy: 0.9700 - val_loss: 3.7105 - val_accuracy: 0.5253\n",
      "Epoch 70/100\n",
      "196/196 [==============================] - 2s 10ms/step - loss: 0.0917 - accuracy: 0.9704 - val_loss: 3.7297 - val_accuracy: 0.5320\n",
      "Epoch 71/100\n",
      "196/196 [==============================] - 2s 10ms/step - loss: 0.0792 - accuracy: 0.9742 - val_loss: 3.7919 - val_accuracy: 0.5243\n",
      "Epoch 72/100\n",
      "196/196 [==============================] - 2s 10ms/step - loss: 0.0863 - accuracy: 0.9725 - val_loss: 3.8050 - val_accuracy: 0.5293\n",
      "Epoch 73/100\n",
      "196/196 [==============================] - 2s 10ms/step - loss: 0.0933 - accuracy: 0.9701 - val_loss: 3.9109 - val_accuracy: 0.5301\n",
      "Epoch 74/100\n",
      "196/196 [==============================] - 2s 10ms/step - loss: 0.0992 - accuracy: 0.9676 - val_loss: 3.7870 - val_accuracy: 0.5288\n",
      "Epoch 75/100\n",
      "196/196 [==============================] - 2s 10ms/step - loss: 0.0822 - accuracy: 0.9731 - val_loss: 3.9314 - val_accuracy: 0.5293\n",
      "Epoch 76/100\n",
      "196/196 [==============================] - 2s 10ms/step - loss: 0.0919 - accuracy: 0.9700 - val_loss: 3.7639 - val_accuracy: 0.5253\n",
      "Epoch 77/100\n",
      "196/196 [==============================] - 2s 10ms/step - loss: 0.0745 - accuracy: 0.9764 - val_loss: 3.8948 - val_accuracy: 0.5334\n",
      "Epoch 78/100\n",
      "196/196 [==============================] - 2s 10ms/step - loss: 0.0855 - accuracy: 0.9719 - val_loss: 4.0009 - val_accuracy: 0.5228\n",
      "Epoch 79/100\n",
      "196/196 [==============================] - 2s 10ms/step - loss: 0.0923 - accuracy: 0.9699 - val_loss: 3.9059 - val_accuracy: 0.5269\n",
      "Epoch 80/100\n",
      "196/196 [==============================] - 2s 10ms/step - loss: 0.0780 - accuracy: 0.9742 - val_loss: 3.9615 - val_accuracy: 0.5270\n",
      "Epoch 81/100\n",
      "196/196 [==============================] - 2s 10ms/step - loss: 0.0907 - accuracy: 0.9712 - val_loss: 3.7333 - val_accuracy: 0.5297\n",
      "Epoch 82/100\n",
      "196/196 [==============================] - 2s 10ms/step - loss: 0.0691 - accuracy: 0.9773 - val_loss: 3.9977 - val_accuracy: 0.5277\n",
      "Epoch 83/100\n",
      "196/196 [==============================] - 2s 10ms/step - loss: 0.0712 - accuracy: 0.9776 - val_loss: 4.0003 - val_accuracy: 0.5277\n",
      "Epoch 84/100\n",
      "196/196 [==============================] - 2s 10ms/step - loss: 0.0684 - accuracy: 0.9776 - val_loss: 4.0801 - val_accuracy: 0.5338\n",
      "Epoch 85/100\n",
      "196/196 [==============================] - 2s 10ms/step - loss: 0.0921 - accuracy: 0.9708 - val_loss: 3.7682 - val_accuracy: 0.5233\n",
      "Epoch 86/100\n",
      "196/196 [==============================] - 2s 10ms/step - loss: 0.0783 - accuracy: 0.9750 - val_loss: 3.7484 - val_accuracy: 0.5255\n",
      "Epoch 87/100\n",
      "196/196 [==============================] - 2s 10ms/step - loss: 0.0787 - accuracy: 0.9748 - val_loss: 3.9483 - val_accuracy: 0.5212\n",
      "Epoch 88/100\n",
      "196/196 [==============================] - 2s 11ms/step - loss: 0.0800 - accuracy: 0.9744 - val_loss: 4.1037 - val_accuracy: 0.5345\n",
      "Epoch 89/100\n",
      "196/196 [==============================] - 2s 10ms/step - loss: 0.0575 - accuracy: 0.9814 - val_loss: 3.9970 - val_accuracy: 0.5342\n",
      "Epoch 90/100\n",
      "196/196 [==============================] - 2s 10ms/step - loss: 0.0792 - accuracy: 0.9741 - val_loss: 4.1560 - val_accuracy: 0.5307\n",
      "Epoch 91/100\n",
      "196/196 [==============================] - 2s 10ms/step - loss: 0.0718 - accuracy: 0.9765 - val_loss: 4.0581 - val_accuracy: 0.5300\n",
      "Epoch 92/100\n",
      "196/196 [==============================] - 2s 10ms/step - loss: 0.0593 - accuracy: 0.9808 - val_loss: 4.2184 - val_accuracy: 0.5264\n",
      "Epoch 93/100\n",
      "196/196 [==============================] - 2s 10ms/step - loss: 0.0823 - accuracy: 0.9732 - val_loss: 4.0467 - val_accuracy: 0.5343\n",
      "Epoch 94/100\n",
      "196/196 [==============================] - 2s 10ms/step - loss: 0.0622 - accuracy: 0.9797 - val_loss: 4.0243 - val_accuracy: 0.5338\n",
      "Epoch 95/100\n",
      "196/196 [==============================] - 2s 10ms/step - loss: 0.0621 - accuracy: 0.9805 - val_loss: 4.1349 - val_accuracy: 0.5281\n",
      "Epoch 96/100\n",
      "196/196 [==============================] - 2s 11ms/step - loss: 0.0712 - accuracy: 0.9771 - val_loss: 4.1339 - val_accuracy: 0.5344\n",
      "Epoch 97/100\n",
      "196/196 [==============================] - 2s 10ms/step - loss: 0.0756 - accuracy: 0.9758 - val_loss: 4.0001 - val_accuracy: 0.5318\n",
      "Epoch 98/100\n",
      "196/196 [==============================] - 2s 10ms/step - loss: 0.0646 - accuracy: 0.9797 - val_loss: 4.0729 - val_accuracy: 0.5389\n",
      "Epoch 99/100\n",
      "196/196 [==============================] - 2s 10ms/step - loss: 0.0620 - accuracy: 0.9807 - val_loss: 3.9586 - val_accuracy: 0.5290\n",
      "Epoch 100/100\n",
      "196/196 [==============================] - 2s 10ms/step - loss: 0.0880 - accuracy: 0.9724 - val_loss: 3.7150 - val_accuracy: 0.5326\n"
     ]
    },
    {
     "data": {
      "text/plain": [
       "<tensorflow.python.keras.callbacks.History at 0x28edf7240c8>"
      ]
     },
     "execution_count": 47,
     "metadata": {},
     "output_type": "execute_result"
    }
   ],
   "source": [
    "model.fit(x_train, y_train, \n",
    "          epochs=EPOCHS, \n",
    "          batch_size=BATCH_SIZE, \n",
    "          validation_data=(x_test, y_test), \n",
    "          shuffle=True)"
   ]
  },
  {
   "cell_type": "code",
   "execution_count": 48,
   "metadata": {},
   "outputs": [
    {
     "data": {
      "image/png": "[encoded data removed]",
      "text/plain": [
       "<Figure size 432x288 with 1 Axes>"
      ]
     },
     "metadata": {
      "needs_background": "light"
     },
     "output_type": "display_data"
    },
    {
     "data": {
      "image/png": "[encoded data removed]",
      "text/plain": [
       "<Figure size 432x288 with 1 Axes>"
      ]
     },
     "metadata": {
      "needs_background": "light"
     },
     "output_type": "display_data"
    }
   ],
   "source": [
    "import matplotlib.pyplot as plt\n",
    "\n",
    "\n",
    "train_loss = model.history.history[\"loss\"]\n",
    "valid_loss = model.history.history[\"val_loss\"]\n",
    "\n",
    "train_acc = model.history.history[\"accuracy\"]\n",
    "valid_acc = model.history.history[\"val_accuracy\"]\n",
    "\n",
    "plt.plot(range(len(train_loss)), train_loss, label=\"train loss\")\n",
    "plt.plot(range(len(valid_loss)), valid_loss, label=\"valid loss\")\n",
    "plt.legend()\n",
    "plt.title(\"Loss\")\n",
    "plt.show()\n",
    "\n",
    "plt.plot(range(len(train_acc)), train_acc, label=\"train accuracy\")\n",
    "plt.plot(range(len(valid_acc)), valid_acc, label=\"valid accuracy\")\n",
    "plt.legend()\n",
    "plt.title(\"Accuracy\")\n",
    "plt.show()"
   ]
  }
 ],
 "metadata": {
  "kernelspec": {
   "display_name": "Python 3",
   "language": "python",
   "name": "python3"
  },
  "language_info": {
   "codemirror_mode": {
    "name": "ipython",
    "version": 3
   },
   "file_extension": ".py",
   "mimetype": "text/x-python",
   "name": "python",
   "nbconvert_exporter": "python",
   "pygments_lexer": "ipython3",
   "version": "3.7.7"
  }
 },
 "nbformat": 4,
 "nbformat_minor": 2
}

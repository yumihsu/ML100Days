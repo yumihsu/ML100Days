{
 "cells": [
  {
   "cell_type": "markdown",
   "metadata": {},
   "source": [
    "## Work\n",
    "1. 請比較 SGD optimizer 不同的 momentum 及使用 nesterov 與否的表現"
   ]
  },
  {
   "cell_type": "code",
   "execution_count": 1,
   "metadata": {},
   "outputs": [
    {
     "name": "stdout",
     "output_type": "stream",
     "text": [
      "Thu Oct 08 03:12:29 2020       \n",
      "+-----------------------------------------------------------------------------+\n",
      "| NVIDIA-SMI 452.06       Driver Version: 452.06       CUDA Version: 11.0     |\n",
      "|-------------------------------+----------------------+----------------------+\n",
      "| GPU  Name            TCC/WDDM | Bus-Id        Disp.A | Volatile Uncorr. ECC |\n",
      "| Fan  Temp  Perf  Pwr:Usage/Cap|         Memory-Usage | GPU-Util  Compute M. |\n",
      "|===============================+======================+======================|\n",
      "|   0  GeForce RTX 2060   WDDM  | 00000000:01:00.0  On |                  N/A |\n",
      "| 34%   50C    P8    17W / 170W |   4440MiB /  6144MiB |     12%      Default |\n",
      "+-------------------------------+----------------------+----------------------+\n",
      "                                                                               \n",
      "+-----------------------------------------------------------------------------+\n",
      "| Processes:                                                                  |\n",
      "|  GPU   GI   CI        PID   Type   Process name                  GPU Memory |\n",
      "|        ID   ID                                                   Usage      |\n",
      "|=============================================================================|\n",
      "|    0   N/A  N/A      1288    C+G   Insufficient Permissions        N/A      |\n",
      "|    0   N/A  N/A      1676    C+G   ...y\\ShellExperienceHost.exe    N/A      |\n",
      "|    0   N/A  N/A      2348    C+G   ...w5n1h2txyewy\\SearchUI.exe    N/A      |\n",
      "|    0   N/A  N/A      4296    C+G   ...les (x86)\\KKBOX\\KKBOX.exe    N/A      |\n",
      "|    0   N/A  N/A      5660    C+G   ...es.TextInput.InputApp.exe    N/A      |\n",
      "|    0   N/A  N/A      8684    C+G   ...p-2.5.3\\GitHubDesktop.exe    N/A      |\n",
      "|    0   N/A  N/A      9324    C+G   ...Container\\nvcontainer.exe    N/A      |\n",
      "|    0   N/A  N/A      9724    C+G   Insufficient Permissions        N/A      |\n",
      "|    0   N/A  N/A     10392    C+G   C:\\Windows\\explorer.exe         N/A      |\n",
      "|    0   N/A  N/A     11440    C+G   Insufficient Permissions        N/A      |\n",
      "|    0   N/A  N/A     15724    C+G   ...me\\Application\\chrome.exe    N/A      |\n",
      "|    0   N/A  N/A     16964    C+G   ...perience\\NVIDIA Share.exe    N/A      |\n",
      "|    0   N/A  N/A     17316    C+G   ...perience\\NVIDIA Share.exe    N/A      |\n",
      "|    0   N/A  N/A     18820    C+G   ...pp\\AutodeskDesktopApp.exe    N/A      |\n",
      "|    0   N/A  N/A     19380    C+G   ...bBrowser\\AcWebBrowser.exe    N/A      |\n",
      "|    0   N/A  N/A     19448    C+G   ...8bbwe\\Microsoft.Notes.exe    N/A      |\n",
      "|    0   N/A  N/A     20584    C+G   Insufficient Permissions        N/A      |\n",
      "|    0   N/A  N/A     21468      C   ...\\envs\\openpose\\python.exe    N/A      |\n",
      "|    0   N/A  N/A     23216    C+G   ...ice\\Office16\\POWERPNT.EXE    N/A      |\n",
      "|    0   N/A  N/A     25196    C+G   ...in7x64\\steamwebhelper.exe    N/A      |\n",
      "|    0   N/A  N/A     26428    C+G   Insufficient Permissions        N/A      |\n",
      "|    0   N/A  N/A     36936    C+G   ...cks\\Client\\Bluestacks.exe    N/A      |\n",
      "|    0   N/A  N/A     37316    C+G   ...w5n1h2txyewy\\SearchUI.exe    N/A      |\n",
      "|    0   N/A  N/A     37480    C+G   ...\\BlueStacks\\HD-Player.exe    N/A      |\n",
      "|    0   N/A  N/A     44236    C+G   ...fice\\Office16\\WINWORD.EXE    N/A      |\n",
      "|    0   N/A  N/A     44792    C+G   ...LINE\\bin\\current\\LINE.exe    N/A      |\n",
      "|    0   N/A  N/A     45616    C+G   ...d\\app-0.0.307\\Discord.exe    N/A      |\n",
      "|    0   N/A  N/A     46556    C+G   ...s\\BlueStacks\\HD-Agent.exe    N/A      |\n",
      "+-----------------------------------------------------------------------------+\n"
     ]
    }
   ],
   "source": [
    "!nvidia-smi"
   ]
  },
  {
   "cell_type": "code",
   "execution_count": 2,
   "metadata": {},
   "outputs": [],
   "source": [
    "import os\n",
    "import keras\n",
    "\n",
    "# 本作業可以不需使用 GPU, 將 GPU 設定為 \"無\" (若想使用可自行開啟)\n",
    "os.environ[\"CUDA_VISIBLE_DEVICES\"] = \"TCC/WDDM\""
   ]
  },
  {
   "cell_type": "code",
   "execution_count": 6,
   "metadata": {},
   "outputs": [],
   "source": [
    "train, test = keras.datasets.cifar10.load_data()"
   ]
  },
  {
   "cell_type": "code",
   "execution_count": 7,
   "metadata": {},
   "outputs": [],
   "source": [
    "## 資料前處理\n",
    "def preproc_x(x, flatten=True):\n",
    "    x = x / 255.\n",
    "    if flatten:\n",
    "        x = x.reshape((len(x), -1))\n",
    "    return x\n",
    "\n",
    "def preproc_y(y, num_classes=10):\n",
    "    if y.shape[-1] == 1:\n",
    "        y = keras.utils.to_categorical(y, num_classes)\n",
    "    return y    "
   ]
  },
  {
   "cell_type": "code",
   "execution_count": 8,
   "metadata": {},
   "outputs": [],
   "source": [
    "x_train, y_train = train\n",
    "x_test, y_test = test\n",
    "\n",
    "# 資料前處理 - X 標準化\n",
    "x_train = preproc_x(x_train)\n",
    "x_test = preproc_x(x_test)\n",
    "\n",
    "# 資料前處理 -Y 轉成 onehot\n",
    "y_train = preproc_y(y_train)\n",
    "y_test = preproc_y(y_test)"
   ]
  },
  {
   "cell_type": "code",
   "execution_count": 22,
   "metadata": {},
   "outputs": [],
   "source": [
    "\"\"\"Code Here\n",
    "建立你的神經網路\n",
    "\"\"\"\n",
    "def build_mlp(input_shape, output_unit = 10 , num_nerous=[512,256,128,64,32]):\n",
    "    input_layer=keras.layers.Input(input_shape)\n",
    "    for i, num  in enumerate(num_nerous):\n",
    "        if i==0:\n",
    "            x = keras.layers.Dense(units = num,\n",
    "                                  activation = 'relu',\n",
    "                                  name ='hidden_layers'+str(i+1))(input_layer)\n",
    "        else:\n",
    "            x = keras.layers.Dense(units = num,\n",
    "                                  activation = 'relu',\n",
    "                                  name = 'hidden_layers'+str(i+1))(x)\n",
    "    out = keras.layers.Dense(units = output_unit,\n",
    "                            activation = 'softmax',\n",
    "                            name = 'output_layers')(x)\n",
    "    model = keras.models.Model(inputs = [input_layer],\n",
    "                              outputs = [out])\n",
    "            \n",
    "\n",
    "    return model\n",
    "\n"
   ]
  },
  {
   "cell_type": "code",
   "execution_count": 23,
   "metadata": {},
   "outputs": [
    {
     "name": "stdout",
     "output_type": "stream",
     "text": [
      "Model: \"functional_1\"\n",
      "_________________________________________________________________\n",
      "Layer (type)                 Output Shape              Param #   \n",
      "=================================================================\n",
      "input_5 (InputLayer)         [(None, 3072)]            0         \n",
      "_________________________________________________________________\n",
      "hidden_layers1 (Dense)       (None, 512)               1573376   \n",
      "_________________________________________________________________\n",
      "hidden_layers2 (Dense)       (None, 256)               131328    \n",
      "_________________________________________________________________\n",
      "hidden_layers3 (Dense)       (None, 128)               32896     \n",
      "_________________________________________________________________\n",
      "hidden_layers4 (Dense)       (None, 64)                8256      \n",
      "_________________________________________________________________\n",
      "hidden_layers5 (Dense)       (None, 32)                2080      \n",
      "_________________________________________________________________\n",
      "output_layers (Dense)        (None, 10)                330       \n",
      "=================================================================\n",
      "Total params: 1,748,266\n",
      "Trainable params: 1,748,266\n",
      "Non-trainable params: 0\n",
      "_________________________________________________________________\n"
     ]
    }
   ],
   "source": [
    "model = build_mlp(input_shape=x_train.shape[1:])\n",
    "model.summary()"
   ]
  },
  {
   "cell_type": "code",
   "execution_count": 30,
   "metadata": {},
   "outputs": [],
   "source": [
    "\"\"\"Code Here\n",
    "設定超參數\n",
    "\"\"\"\n",
    "learning_rate = 0.001\n",
    "EPOCH = 50\n",
    "BATCH_SIZE = 150\n",
    "\n",
    "optimizer = keras.optimizers.Adam(lr=learning_rate)\n",
    "model.compile(loss = 'categorical_crossentropy' ,\n",
    "             metrics = ['accuracy'],\n",
    "             optimizer = optimizer)"
   ]
  },
  {
   "cell_type": "code",
   "execution_count": 47,
   "metadata": {
    "scrolled": true
   },
   "outputs": [
    {
     "name": "stdout",
     "output_type": "stream",
     "text": [
      "Epoch 1/50\n",
      "334/334 [==============================] - 3s 9ms/step - loss: 0.6821 - accuracy: 0.7551 - val_loss: 1.8916 - val_accuracy: 0.5066\n",
      "Epoch 2/50\n",
      "334/334 [==============================] - 3s 8ms/step - loss: 0.6725 - accuracy: 0.7591 - val_loss: 1.9026 - val_accuracy: 0.5094\n",
      "Epoch 3/50\n",
      "334/334 [==============================] - 3s 8ms/step - loss: 0.6574 - accuracy: 0.7621 - val_loss: 1.9682 - val_accuracy: 0.5068\n",
      "Epoch 4/50\n",
      "334/334 [==============================] - 3s 8ms/step - loss: 0.6441 - accuracy: 0.7680 - val_loss: 1.9690 - val_accuracy: 0.5067\n",
      "Epoch 5/50\n",
      "334/334 [==============================] - 3s 8ms/step - loss: 0.6405 - accuracy: 0.7690 - val_loss: 1.9392 - val_accuracy: 0.5090\n",
      "Epoch 6/50\n",
      "334/334 [==============================] - 3s 8ms/step - loss: 0.6407 - accuracy: 0.7692 - val_loss: 1.9973 - val_accuracy: 0.5065\n",
      "Epoch 7/50\n",
      "334/334 [==============================] - 3s 8ms/step - loss: 0.6123 - accuracy: 0.7792 - val_loss: 2.0615 - val_accuracy: 0.5065\n",
      "Epoch 8/50\n",
      "334/334 [==============================] - 3s 8ms/step - loss: 0.6312 - accuracy: 0.7737 - val_loss: 2.0383 - val_accuracy: 0.5025\n",
      "Epoch 9/50\n",
      "334/334 [==============================] - 3s 8ms/step - loss: 0.6041 - accuracy: 0.7825 - val_loss: 2.0678 - val_accuracy: 0.5022\n",
      "Epoch 10/50\n",
      "334/334 [==============================] - 3s 8ms/step - loss: 0.5934 - accuracy: 0.7854 - val_loss: 2.1904 - val_accuracy: 0.4946\n",
      "Epoch 11/50\n",
      "334/334 [==============================] - 3s 8ms/step - loss: 0.5809 - accuracy: 0.7910 - val_loss: 2.0385 - val_accuracy: 0.5102\n",
      "Epoch 12/50\n",
      "334/334 [==============================] - 3s 8ms/step - loss: 0.5839 - accuracy: 0.7890 - val_loss: 2.0827 - val_accuracy: 0.5004\n",
      "Epoch 13/50\n",
      "334/334 [==============================] - 3s 8ms/step - loss: 0.5726 - accuracy: 0.7917 - val_loss: 2.0905 - val_accuracy: 0.5064\n",
      "Epoch 14/50\n",
      "334/334 [==============================] - 3s 8ms/step - loss: 0.5570 - accuracy: 0.7993 - val_loss: 2.2018 - val_accuracy: 0.5012\n",
      "Epoch 15/50\n",
      "334/334 [==============================] - 3s 8ms/step - loss: 0.5687 - accuracy: 0.7958 - val_loss: 2.1876 - val_accuracy: 0.5034\n",
      "Epoch 16/50\n",
      "334/334 [==============================] - 3s 8ms/step - loss: 0.5422 - accuracy: 0.8036 - val_loss: 2.2497 - val_accuracy: 0.4886\n",
      "Epoch 17/50\n",
      "334/334 [==============================] - 3s 8ms/step - loss: 0.5301 - accuracy: 0.8093 - val_loss: 2.2965 - val_accuracy: 0.4999\n",
      "Epoch 18/50\n",
      "334/334 [==============================] - 3s 8ms/step - loss: 0.5205 - accuracy: 0.8132 - val_loss: 2.3532 - val_accuracy: 0.4946\n",
      "Epoch 19/50\n",
      "334/334 [==============================] - 3s 8ms/step - loss: 0.5365 - accuracy: 0.8068 - val_loss: 2.2687 - val_accuracy: 0.5029\n",
      "Epoch 20/50\n",
      "334/334 [==============================] - 3s 8ms/step - loss: 0.5094 - accuracy: 0.8173 - val_loss: 2.3869 - val_accuracy: 0.4985\n",
      "Epoch 21/50\n",
      "334/334 [==============================] - 3s 8ms/step - loss: 0.5174 - accuracy: 0.8140 - val_loss: 2.3938 - val_accuracy: 0.4961\n",
      "Epoch 22/50\n",
      "334/334 [==============================] - 3s 8ms/step - loss: 0.5109 - accuracy: 0.8168 - val_loss: 2.4189 - val_accuracy: 0.4980\n",
      "Epoch 23/50\n",
      "334/334 [==============================] - 3s 8ms/step - loss: 0.4992 - accuracy: 0.8203 - val_loss: 2.4097 - val_accuracy: 0.5014\n",
      "Epoch 24/50\n",
      "334/334 [==============================] - 3s 8ms/step - loss: 0.5081 - accuracy: 0.8172 - val_loss: 2.4332 - val_accuracy: 0.4957\n",
      "Epoch 25/50\n",
      "334/334 [==============================] - 3s 8ms/step - loss: 0.4769 - accuracy: 0.8288 - val_loss: 2.4797 - val_accuracy: 0.5018\n",
      "Epoch 26/50\n",
      "334/334 [==============================] - 3s 8ms/step - loss: 0.4846 - accuracy: 0.8260 - val_loss: 2.4526 - val_accuracy: 0.4987\n",
      "Epoch 27/50\n",
      "334/334 [==============================] - 3s 8ms/step - loss: 0.4777 - accuracy: 0.8287 - val_loss: 2.5319 - val_accuracy: 0.4964\n",
      "Epoch 28/50\n",
      "334/334 [==============================] - 3s 8ms/step - loss: 0.4571 - accuracy: 0.8353 - val_loss: 2.4648 - val_accuracy: 0.5019\n",
      "Epoch 29/50\n",
      "334/334 [==============================] - 3s 8ms/step - loss: 0.4705 - accuracy: 0.8307 - val_loss: 2.5399 - val_accuracy: 0.4975\n",
      "Epoch 30/50\n",
      "334/334 [==============================] - 3s 8ms/step - loss: 0.4572 - accuracy: 0.8356 - val_loss: 2.5750 - val_accuracy: 0.4899\n",
      "Epoch 31/50\n",
      "334/334 [==============================] - 3s 8ms/step - loss: 0.4492 - accuracy: 0.8396 - val_loss: 2.6226 - val_accuracy: 0.5039\n",
      "Epoch 32/50\n",
      "334/334 [==============================] - 3s 8ms/step - loss: 0.4571 - accuracy: 0.8370 - val_loss: 2.6216 - val_accuracy: 0.5019\n",
      "Epoch 33/50\n",
      "334/334 [==============================] - 3s 8ms/step - loss: 0.4600 - accuracy: 0.8357 - val_loss: 2.6318 - val_accuracy: 0.4974\n",
      "Epoch 34/50\n",
      "334/334 [==============================] - 3s 8ms/step - loss: 0.4381 - accuracy: 0.8422 - val_loss: 2.7211 - val_accuracy: 0.4979\n",
      "Epoch 35/50\n",
      "334/334 [==============================] - 3s 8ms/step - loss: 0.4258 - accuracy: 0.8473 - val_loss: 2.7265 - val_accuracy: 0.4938\n",
      "Epoch 36/50\n",
      "334/334 [==============================] - 3s 8ms/step - loss: 0.4344 - accuracy: 0.8433 - val_loss: 2.7431 - val_accuracy: 0.4990\n",
      "Epoch 37/50\n",
      "334/334 [==============================] - 3s 8ms/step - loss: 0.4160 - accuracy: 0.8514 - val_loss: 2.7960 - val_accuracy: 0.4944\n",
      "Epoch 38/50\n",
      "334/334 [==============================] - 3s 8ms/step - loss: 0.4270 - accuracy: 0.8477 - val_loss: 2.7578 - val_accuracy: 0.4918\n",
      "Epoch 39/50\n",
      "334/334 [==============================] - 3s 8ms/step - loss: 0.4328 - accuracy: 0.8442 - val_loss: 2.7868 - val_accuracy: 0.4994\n",
      "Epoch 40/50\n",
      "334/334 [==============================] - 3s 8ms/step - loss: 0.4086 - accuracy: 0.8550 - val_loss: 2.8125 - val_accuracy: 0.4988\n",
      "Epoch 41/50\n",
      "334/334 [==============================] - 3s 8ms/step - loss: 0.4173 - accuracy: 0.8502 - val_loss: 2.8287 - val_accuracy: 0.4968\n",
      "Epoch 42/50\n",
      "334/334 [==============================] - 3s 8ms/step - loss: 0.4063 - accuracy: 0.8561 - val_loss: 2.8248 - val_accuracy: 0.5007\n",
      "Epoch 43/50\n",
      "334/334 [==============================] - 3s 8ms/step - loss: 0.4196 - accuracy: 0.8505 - val_loss: 2.8527 - val_accuracy: 0.4890\n",
      "Epoch 44/50\n",
      "334/334 [==============================] - 3s 8ms/step - loss: 0.3939 - accuracy: 0.8585 - val_loss: 2.9467 - val_accuracy: 0.4937\n",
      "Epoch 45/50\n",
      "334/334 [==============================] - 3s 8ms/step - loss: 0.3816 - accuracy: 0.8650 - val_loss: 2.8302 - val_accuracy: 0.4842\n",
      "Epoch 46/50\n",
      "334/334 [==============================] - 3s 8ms/step - loss: 0.3844 - accuracy: 0.8625 - val_loss: 2.9842 - val_accuracy: 0.4922\n",
      "Epoch 47/50\n",
      "334/334 [==============================] - 3s 8ms/step - loss: 0.3842 - accuracy: 0.8615 - val_loss: 3.0082 - val_accuracy: 0.4876\n",
      "Epoch 48/50\n",
      "334/334 [==============================] - 3s 8ms/step - loss: 0.3737 - accuracy: 0.8656 - val_loss: 2.9594 - val_accuracy: 0.4960\n",
      "Epoch 49/50\n",
      "334/334 [==============================] - 3s 8ms/step - loss: 0.3979 - accuracy: 0.8568 - val_loss: 2.9686 - val_accuracy: 0.4916\n",
      "Epoch 50/50\n",
      "334/334 [==============================] - 3s 8ms/step - loss: 0.3633 - accuracy: 0.8707 - val_loss: 2.9811 - val_accuracy: 0.4937\n"
     ]
    },
    {
     "data": {
      "text/plain": [
       "<tensorflow.python.keras.callbacks.History at 0x208a9c95548>"
      ]
     },
     "execution_count": 47,
     "metadata": {},
     "output_type": "execute_result"
    }
   ],
   "source": [
    "results = {}\n",
    "\"\"\"Code Here\n",
    "撰寫你的訓練流程並將結果用 dictionary 紀錄\n",
    "\"\"\"\n",
    "model.fit(x_train,y_train,\n",
    "         epochs=EPOCH,\n",
    "         batch_size = BATCH_SIZE,\n",
    "        validation_data=(x_test,y_test),\n",
    "         shuffle = True)"
   ]
  },
  {
   "cell_type": "code",
   "execution_count": 48,
   "metadata": {},
   "outputs": [
    {
     "data": {
      "image/png": "[encoded data removed]",
      "text/plain": [
       "<Figure size 432x288 with 1 Axes>"
      ]
     },
     "metadata": {
      "needs_background": "light"
     },
     "output_type": "display_data"
    },
    {
     "data": {
      "image/png": "[encoded data removed]",
      "text/plain": [
       "<Figure size 432x288 with 1 Axes>"
      ]
     },
     "metadata": {
      "needs_background": "light"
     },
     "output_type": "display_data"
    }
   ],
   "source": [
    "import matplotlib.pyplot as plt\n",
    "%matplotlib inline\n",
    "\"\"\"Code Here\n",
    "將結果繪出\n",
    "\"\"\"\n",
    "train_loss = model.history.history['loss']\n",
    "valid_loss = model.history.history['val_loss']\n",
    "\n",
    "train_acc = model.history.history['accuracy']\n",
    "valid_acc = model.history.history['val_accuracy']\n",
    "\n",
    "plt.plot(range(len(train_loss)),train_loss,label = 'train_loss')\n",
    "plt.plot(range(len(valid_loss)),valid_loss,label = 'val_loss')\n",
    "plt.legend(loc='best')\n",
    "plt.title('loss')\n",
    "plt.show()\n",
    "\n",
    "plt.plot(range(len(train_acc)),train_acc,label = 'accuracy')\n",
    "plt.plot(range(len(valid_acc)),valid_acc,label = 'val_accuracy')\n",
    "plt.legend(loc='best')\n",
    "plt.title('accuracy')\n",
    "plt.show()"
   ]
  }
 ],
 "metadata": {
  "kernelspec": {
   "display_name": "Python 3",
   "language": "python",
   "name": "python3"
  },
  "language_info": {
   "codemirror_mode": {
    "name": "ipython",
    "version": 3
   },
   "file_extension": ".py",
   "mimetype": "text/x-python",
   "name": "python",
   "nbconvert_exporter": "python",
   "pygments_lexer": "ipython3",
   "version": "3.7.7"
  }
 },
 "nbformat": 4,
 "nbformat_minor": 2
}

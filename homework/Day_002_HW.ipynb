{
 "cells": [
  {
   "cell_type": "markdown",
   "metadata": {},
   "source": [
    "## [作業目標]\n",
    "了解機器學習適合應用的領域與範疇。"
   ]
  },
  {
   "cell_type": "markdown",
   "metadata": {},
   "source": [
    "## [作業重點]\n",
    "透過瞭解機器學習的運作方式，找出非常適用機器學習應用的領域及其原因"
   ]
  },
  {
   "cell_type": "markdown",
   "metadata": {},
   "source": [
    "## 作業\n",
    "請找出一個你認為機器學習可以發光發熱的領域並闡述原因? "
   ]
  },
  {
   "cell_type": "raw",
   "metadata": {},
   "source": [
    "現今地理學中的空間資訊學科發展已成熟，在大量的空間資訊理論下可以進行非常多的空間計算與統計，以台灣來說，雖然在空間資訊的商業化下還未大有所為與商業價值，但還是有潛力存在。\n",
    "\n",
    "台灣在地狹人稠的空間下，我們必須將有限的土地，使其土地使用最佳化，不僅如此，最常討論的降雨、淹水、山崩、土石流等天災，在過往來說確實需要進行場勘進行環境檢測，得知災害發生原因，但配合現今大量的環境監測資料與過往歷史資料，並運用上矩陣在空間計算上的長處，將預測使用在地理災害預測與防災部屬上，也許能夠對台灣人民有巨大貢獻。\n",
    "\n",
    "同時互聯網的成熟與資訊爆炸的年代，眾多的人文、社會、經濟資料，鮮少有人將其空間化進行預測研究，想想如果可以像2008年美國電影鷹眼中的超級電腦，對於所有發生在社會上的人事物都進行到如此高端的預測與應變，是否能夠應用在預防犯罪？預防車禍？醫療配給？區域發展？找到合適的房子？在哪做何種工作？即使鷹眼這種未來科技在電影中確實可怕，如同當年愛因斯坦相對論，縱使其後人使用在發展核武，但其對於科學發展的貢獻，不是部分負面用途所可以一竿子打翻的。\n",
    "\n",
    "結合上述，地理學與空間資訊，大可用運在國土安全，中可運用在國家政策，小可落實國民需求，配合機器學習進行預測與分析的領域必有其價值。"
   ]
  },
  {
   "cell_type": "code",
   "execution_count": null,
   "metadata": {},
   "outputs": [],
   "source": []
  }
 ],
 "metadata": {
  "kernelspec": {
   "display_name": "Python 3",
   "language": "python",
   "name": "python3"
  },
  "language_info": {
   "codemirror_mode": {
    "name": "ipython",
    "version": 3
   },
   "file_extension": ".py",
   "mimetype": "text/x-python",
   "name": "python",
   "nbconvert_exporter": "python",
   "pygments_lexer": "ipython3",
   "version": "3.7.3"
  }
 },
 "nbformat": 4,
 "nbformat_minor": 2
}

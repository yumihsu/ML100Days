{
 "cells": [
  {
   "cell_type": "markdown",
   "metadata": {},
   "source": [
    "## Work\n",
    "1. 請嘗試寫一個 callback 用來記錄各類別在訓練過程中，對驗證集的 True Positive 與 True Negative"
   ]
  },
  {
   "cell_type": "code",
   "execution_count": 15,
   "metadata": {},
   "outputs": [],
   "source": [
    "import os\n",
    "import keras\n",
    "\n",
    "# Disable GPU\n",
    "os.environ[\"CUDA_VISIBLE_DEVICES\"] = \"0\""
   ]
  },
  {
   "cell_type": "code",
   "execution_count": 16,
   "metadata": {},
   "outputs": [],
   "source": [
    "train, test = keras.datasets.cifar10.load_data()"
   ]
  },
  {
   "cell_type": "code",
   "execution_count": 17,
   "metadata": {},
   "outputs": [],
   "source": [
    "## 資料前處理\n",
    "def preproc_x(x, flatten=True):\n",
    "    x = x / 255.\n",
    "    if flatten:\n",
    "        x = x.reshape((len(x), -1))\n",
    "    return x\n",
    "\n",
    "def preproc_y(y, num_classes=10):\n",
    "    if y.shape[-1] == 1:\n",
    "        y = keras.utils.to_categorical(y, num_classes)\n",
    "    return y    "
   ]
  },
  {
   "cell_type": "code",
   "execution_count": 18,
   "metadata": {},
   "outputs": [],
   "source": [
    "x_train, y_train = train\n",
    "x_test, y_test = test\n",
    "\n",
    "# Preproc the inputs\n",
    "x_train = preproc_x(x_train)\n",
    "x_test = preproc_x(x_test)\n",
    "\n",
    "# Preprc the outputs\n",
    "y_train = preproc_y(y_train)\n",
    "y_test = preproc_y(y_test)"
   ]
  },
  {
   "cell_type": "code",
   "execution_count": 19,
   "metadata": {},
   "outputs": [],
   "source": [
    "from keras.layers import BatchNormalization\n",
    "def build_mlp(input_shape, output_units=10, num_neurons=[256, 256, 256]):\n",
    "    input_layer = keras.layers.Input(input_shape)\n",
    "    \n",
    "    for i, n_units in enumerate(num_neurons):\n",
    "        if i == 0:\n",
    "            x = keras.layers.Dense(units=n_units, \n",
    "                                   activation=\"relu\", \n",
    "                                   name=\"hidden_layer\"+str(i+1))(input_layer)\n",
    "            x = BatchNormalization()(x)\n",
    "        else:\n",
    "            x = keras.layers.Dense(units=n_units, \n",
    "                                   activation=\"relu\", \n",
    "                                   name=\"hidden_layer\"+str(i+1))(x)\n",
    "            x = BatchNormalization()(x)\n",
    "    \n",
    "    out = keras.layers.Dense(units=output_units, activation=\"softmax\", name=\"output\")(x)\n",
    "    \n",
    "    model = keras.models.Model(inputs=[input_layer], outputs=[out])\n",
    "    return model"
   ]
  },
  {
   "cell_type": "code",
   "execution_count": 20,
   "metadata": {},
   "outputs": [],
   "source": [
    "## 超參數設定\n",
    "LEARNING_RATE = 1e-3\n",
    "EPOCHS = 25\n",
    "BATCH_SIZE = 1024\n",
    "MOMENTUM = 0.95"
   ]
  },
  {
   "cell_type": "code",
   "execution_count": 50,
   "metadata": {},
   "outputs": [],
   "source": [
    "from livelossplot.keras import PlotLossesCallback"
   ]
  },
  {
   "cell_type": "code",
   "execution_count": 69,
   "metadata": {},
   "outputs": [],
   "source": [
    "# 載入 Callbacks\n",
    "from keras.callbacks import Callback\n",
    "from sklearn.metrics import f1_score\n",
    "from keras import backend\n",
    "backend.clear_session()\n",
    "# Record_fp_tp\n",
    "class Record_tp_tn(Callback):\n",
    "#因為Callback的validation_data有預設回傳None的機制，因此從新定義類(init)\n",
    "    def __init__(self, val_data):\n",
    "        super().__init__()\n",
    "        self.validation_data = val_data\n",
    "        \n",
    "    def on_train_begin(self, epoch, logs = {}):\n",
    "        logs = logs or {}\n",
    "        record_items = [\"val_tp\", \"val_tn\"]\n",
    "        for i in record_items:\n",
    "            try:\n",
    "                if i not in self.params['metrics']:\n",
    "                    self.params['metrics'].append(i)\n",
    "            except:\n",
    "                self.params['metrics']=i\n",
    "        \n",
    "    def on_epoch_end(self, epoch, logs = {}, thres=0.5):\n",
    "        logs = logs or {}\n",
    "        y_true = self.validation_data[1].argmax(axis = 1)\n",
    "        y_pred = self.model.predict(self.validation_data[0])\n",
    "        y_pred = (y_pred[:, 1] >= thres) * 1\n",
    "        \n",
    "        val_tp = sum(y_true*y_pred)\n",
    "        val_tn = sum((y_true==0) & (y_pred==0))\n",
    "        \n",
    "        logs[\"val_tp\"] = val_tp\n",
    "        logs[\"val_tn\"] = val_tn\n",
    "\n",
    "rec_tptn = Record_tp_tn((x_test,y_test))\n"
   ]
  },
  {
   "cell_type": "code",
   "execution_count": 70,
   "metadata": {
    "scrolled": true
   },
   "outputs": [
    {
     "name": "stdout",
     "output_type": "stream",
     "text": [
      "Epoch 1/25\n",
      "49/49 [==============================] - 1s 22ms/step - loss: 2.2301 - accuracy: 0.2716 - val_loss: 2.1515 - val_accuracy: 0.1907\n",
      "Epoch 2/25\n",
      "49/49 [==============================] - 1s 16ms/step - loss: 1.7694 - accuracy: 0.3836 - val_loss: 2.0366 - val_accuracy: 0.2527\n",
      "Epoch 3/25\n",
      "49/49 [==============================] - 1s 15ms/step - loss: 1.6387 - accuracy: 0.4273 - val_loss: 1.8542 - val_accuracy: 0.3426\n",
      "Epoch 4/25\n",
      "49/49 [==============================] - 1s 16ms/step - loss: 1.5646 - accuracy: 0.4514 - val_loss: 1.7370 - val_accuracy: 0.3895\n",
      "Epoch 5/25\n",
      "49/49 [==============================] - 1s 16ms/step - loss: 1.5074 - accuracy: 0.4720 - val_loss: 1.6302 - val_accuracy: 0.4326\n",
      "Epoch 6/25\n",
      "49/49 [==============================] - 1s 16ms/step - loss: 1.4612 - accuracy: 0.4902 - val_loss: 1.5800 - val_accuracy: 0.4407\n",
      "Epoch 7/25\n",
      "49/49 [==============================] - 1s 16ms/step - loss: 1.4237 - accuracy: 0.5017 - val_loss: 1.5445 - val_accuracy: 0.4542\n",
      "Epoch 8/25\n",
      "49/49 [==============================] - 1s 15ms/step - loss: 1.3912 - accuracy: 0.5132 - val_loss: 1.5164 - val_accuracy: 0.4641\n",
      "Epoch 9/25\n",
      "49/49 [==============================] - 1s 16ms/step - loss: 1.3612 - accuracy: 0.5259 - val_loss: 1.4959 - val_accuracy: 0.4739\n",
      "Epoch 10/25\n",
      "49/49 [==============================] - 1s 16ms/step - loss: 1.3332 - accuracy: 0.5346 - val_loss: 1.4914 - val_accuracy: 0.4753\n",
      "Epoch 11/25\n",
      "49/49 [==============================] - 1s 16ms/step - loss: 1.3082 - accuracy: 0.5438 - val_loss: 1.4779 - val_accuracy: 0.4825\n",
      "Epoch 12/25\n",
      "49/49 [==============================] - 1s 15ms/step - loss: 1.2838 - accuracy: 0.5531 - val_loss: 1.4635 - val_accuracy: 0.4840\n",
      "Epoch 13/25\n",
      "49/49 [==============================] - 1s 15ms/step - loss: 1.2615 - accuracy: 0.5610 - val_loss: 1.4644 - val_accuracy: 0.4857\n",
      "Epoch 14/25\n",
      "49/49 [==============================] - 1s 16ms/step - loss: 1.2384 - accuracy: 0.5716 - val_loss: 1.4598 - val_accuracy: 0.4934\n",
      "Epoch 15/25\n",
      "49/49 [==============================] - 1s 16ms/step - loss: 1.2198 - accuracy: 0.5780 - val_loss: 1.4541 - val_accuracy: 0.4887\n",
      "Epoch 16/25\n",
      "49/49 [==============================] - 1s 15ms/step - loss: 1.1996 - accuracy: 0.5839 - val_loss: 1.4479 - val_accuracy: 0.4912\n",
      "Epoch 17/25\n",
      "49/49 [==============================] - 1s 16ms/step - loss: 1.1782 - accuracy: 0.5928 - val_loss: 1.4437 - val_accuracy: 0.4925\n",
      "Epoch 18/25\n",
      "49/49 [==============================] - 1s 15ms/step - loss: 1.1607 - accuracy: 0.5992 - val_loss: 1.4462 - val_accuracy: 0.4898\n",
      "Epoch 19/25\n",
      "49/49 [==============================] - 1s 15ms/step - loss: 1.1418 - accuracy: 0.6060 - val_loss: 1.4458 - val_accuracy: 0.4969\n",
      "Epoch 20/25\n",
      "49/49 [==============================] - 1s 16ms/step - loss: 1.1250 - accuracy: 0.6133 - val_loss: 1.4358 - val_accuracy: 0.4990\n",
      "Epoch 21/25\n",
      "49/49 [==============================] - 1s 16ms/step - loss: 1.1066 - accuracy: 0.6199 - val_loss: 1.4481 - val_accuracy: 0.4939\n",
      "Epoch 22/25\n",
      "49/49 [==============================] - 1s 15ms/step - loss: 1.0902 - accuracy: 0.6272 - val_loss: 1.4415 - val_accuracy: 0.4968\n",
      "Epoch 23/25\n",
      "49/49 [==============================] - 1s 15ms/step - loss: 1.0713 - accuracy: 0.6320 - val_loss: 1.4425 - val_accuracy: 0.4967\n",
      "Epoch 24/25\n",
      "49/49 [==============================] - 1s 16ms/step - loss: 1.0541 - accuracy: 0.6413 - val_loss: 1.4423 - val_accuracy: 0.4974\n",
      "Epoch 25/25\n",
      "49/49 [==============================] - 1s 15ms/step - loss: 1.0397 - accuracy: 0.6462 - val_loss: 1.4362 - val_accuracy: 0.5017\n"
     ]
    }
   ],
   "source": [
    "model = build_mlp(input_shape=x_train.shape[1:])\n",
    "#model.summary()\n",
    "optimizer = keras.optimizers.SGD(lr=LEARNING_RATE, nesterov=True, momentum=MOMENTUM)\n",
    "model.compile(loss=\"categorical_crossentropy\", metrics=[\"accuracy\"], optimizer=optimizer)\n",
    "\n",
    "model.fit(x_train, y_train, \n",
    "          epochs=EPOCHS, \n",
    "          batch_size=BATCH_SIZE, \n",
    "          validation_data=(x_test, y_test), \n",
    "          shuffle=True,\n",
    "          callbacks=[rec_tptn]\n",
    "         )\n",
    "\n",
    "# Collect results\n",
    "train_loss = model.history.history[\"loss\"]\n",
    "valid_loss = model.history.history[\"val_loss\"]\n",
    "train_acc = model.history.history[\"accuracy\"]\n",
    "valid_acc = model.history.history[\"val_accuracy\"]\n",
    "\n",
    "valid_tp = model.history.history['val_tp']\n",
    "valid_tn = model.history.history['val_tn']"
   ]
  },
  {
   "cell_type": "code",
   "execution_count": 71,
   "metadata": {},
   "outputs": [
    {
     "data": {
      "image/png": "[encoded data removed]",
      "text/plain": [
       "<Figure size 432x288 with 1 Axes>"
      ]
     },
     "metadata": {
      "needs_background": "light"
     },
     "output_type": "display_data"
    },
    {
     "data": {
      "image/png": "[encoded data removed]",
      "text/plain": [
       "<Figure size 432x288 with 1 Axes>"
      ]
     },
     "metadata": {
      "needs_background": "light"
     },
     "output_type": "display_data"
    },
    {
     "data": {
      "image/png": "[encoded data removed]",
      "text/plain": [
       "<Figure size 432x288 with 1 Axes>"
      ]
     },
     "metadata": {
      "needs_background": "light"
     },
     "output_type": "display_data"
    }
   ],
   "source": [
    "import matplotlib.pyplot as plt\n",
    "%matplotlib inline\n",
    "\n",
    "plt.plot(range(len(train_loss)), train_loss, label=\"train loss\")\n",
    "plt.plot(range(len(valid_loss)), valid_loss, label=\"valid loss\")\n",
    "plt.legend()\n",
    "plt.title(\"Loss\")\n",
    "plt.show()\n",
    "\n",
    "plt.plot(range(len(train_acc)), train_acc, label=\"train accuracy\")\n",
    "plt.plot(range(len(valid_acc)), valid_acc, label=\"valid accuracy\")\n",
    "plt.legend()\n",
    "plt.title(\"Accuracy\")\n",
    "plt.show()\n",
    "\n",
    "plt.plot(range(len(valid_tp)), valid_tp, label=\"valid tp\", color=\"navy\")\n",
    "plt.plot(range(len(valid_tn)), valid_tn, label=\"valid tn\", color=\"red\")\n",
    "plt.legend()\n",
    "plt.title(\"True positives and True Negatives\")\n",
    "plt.show()"
   ]
  },
  {
   "cell_type": "code",
   "execution_count": null,
   "metadata": {},
   "outputs": [],
   "source": []
  },
  {
   "cell_type": "code",
   "execution_count": null,
   "metadata": {},
   "outputs": [],
   "source": []
  },
  {
   "cell_type": "code",
   "execution_count": null,
   "metadata": {},
   "outputs": [],
   "source": []
  }
 ],
 "metadata": {
  "kernelspec": {
   "display_name": "Python 3",
   "language": "python",
   "name": "python3"
  },
  "language_info": {
   "codemirror_mode": {
    "name": "ipython",
    "version": 3
   },
   "file_extension": ".py",
   "mimetype": "text/x-python",
   "name": "python",
   "nbconvert_exporter": "python",
   "pygments_lexer": "ipython3",
   "version": "3.6.12"
  }
 },
 "nbformat": 4,
 "nbformat_minor": 2
}
